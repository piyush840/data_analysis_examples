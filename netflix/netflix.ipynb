{
 "cells": [
  {
   "cell_type": "markdown",
   "metadata": {},
   "source": [
    "### Introduction\n",
    "- This dataset consists of tv shows and movies available on Netflix as of 2019. The dataset is collected from Flixable which is a third-party Netflix search engine.\n",
    "- In 2018, they released an interesting report which shows that the number of TV shows on Netflix has nearly tripled since 2010. The streaming service’s number of movies has decreased by more than 2,000 titles since 2010, while its number of TV shows has nearly tripled. It will be interesting to explore what all other insights can be obtained from the same dataset."
   ]
  },
  {
   "cell_type": "markdown",
   "metadata": {},
   "source": [
    "### Data source\n",
    "- https://www.kaggle.com/shivamb/netflix-shows"
   ]
  },
  {
   "cell_type": "markdown",
   "metadata": {},
   "source": [
    "### Data description\n",
    "- This data set consist 6234 rows and 12 columns.\n",
    "- 'show_id' - given as unique show id.\n",
    "- 'type' - identifier like movie or tv show.\n",
    "- 'title' - movie or tv show name.\n",
    "- 'director' - given person's name who directs a tv show/movie.\n",
    "- 'cast' - actors and actress involved in the movie.\n",
    "- 'country' - Country where the movie/show was released\n",
    "- 'date_added' - content added date on netflix.\n",
    "- 'release_year' - actual release year.\n",
    "- 'rating' - TV Rating of the movie/show.\n",
    "- 'duration' - time duration in minutes or number of seasons.\n",
    "- 'listed_in' - content category like comedy,action etc.\n",
    "- 'description' - short narration.\n",
    "- To analyse tha data using python libraries pandas and numpy and for data visualisation using plotly library."
   ]
  },
  {
   "cell_type": "markdown",
   "metadata": {},
   "source": [
    "### Tasks performed in this analysis\n",
    "- Distribution of rating.\n",
    "- Distribution of movies and Tv shows.\n",
    "- Count the total number of content released per year.\n",
    "- Count the number of tv-shows and movies per year.\n",
    "- In which month content added the most?\n",
    "- Which country released most content?\n",
    "- Distribution of categories available on netflix.\n",
    "- Top 10 actors on Netflix with most movies.\n",
    "- Top 10 actors on Netflix with most tv shows.\n",
    "- Which director directs maximum content in India?\n",
    "- Top 10 directors with number of content.\n",
    "- Which countries produce stand-up comedy on Netflix?\n",
    "- Distribution of Movie Duration.\n",
    "- Find the number of seasons in tv shows.\n",
    "- How soon movies are available on Netflix after release?"
   ]
  },
  {
   "cell_type": "code",
   "execution_count": null,
   "metadata": {},
   "outputs": [],
   "source": [
    "import pandas as pd\n",
    "import numpy as np\n",
    "import plotly.express as px\n",
    "import plotly.graph_objects as go\n",
    "import datetime\n",
    "import warnings\n",
    "warnings.filterwarnings('ignore')"
   ]
  },
  {
   "cell_type": "code",
   "execution_count": null,
   "metadata": {},
   "outputs": [],
   "source": [
    "data = pd.read_csv('C:\\\\Users\\\\piyush bhardwaj\\\\Documents\\\\data_analysis\\\\netflix-data\\\\netflix_titles.csv')\n",
    "print('Total number of rows and columns:')\n",
    "print(data.shape)\n",
    "print('\\n')\n",
    "print('checking id contains duplicate values:')\n",
    "print(data.show_id.duplicated().sum())\n",
    "print('\\n')\n",
    "print('checking null values in data:')\n",
    "print(data.isnull().sum(),'\\n')\n",
    "print(\"check column data type:\",'\\n',data.dtypes)\n",
    "data.head(2)"
   ]
  },
  {
   "cell_type": "markdown",
   "metadata": {},
   "source": [
    "## Distribution of rating."
   ]
  },
  {
   "cell_type": "code",
   "execution_count": null,
   "metadata": {},
   "outputs": [],
   "source": [
    "ratings = data.filter(['show_id','rating']).dropna()\n",
    "ratings.drop_duplicates(inplace=True)\n",
    "ratings = pd.DataFrame(ratings.groupby(['rating']).show_id.count())\n",
    "ratings.reset_index(level=0,inplace=True)\n",
    "ratings.sort_values(by=['show_id'],ascending=False,inplace=True)\n",
    "fig = px.bar(x=ratings.rating,y=ratings.show_id,labels={'x':'Ratings','y':'Number of Shows'},title='Distribution of Ratings')\n",
    "fig.show()"
   ]
  },
  {
   "cell_type": "markdown",
   "metadata": {},
   "source": [
    "### Observation \n",
    "- X-axis represent rating.\n",
    "- Y-axis represent number of shows.\n",
    "- The bar chart indicates that the majority of content on Netflix is of the rating TV-MA which means it is intended to be viewed by mature, adult audiences and may be unsuitable for children under 17. Followed by TV-14 this rating of programs may be unsuitable for children below 14 years of age.\n",
    "- An NC-17 rating means that anyone below the age of 17 is not allowed to watch a film. This may be the reason that Netflix added only 2 shows."
   ]
  },
  {
   "cell_type": "markdown",
   "metadata": {},
   "source": [
    "## Distribution of movies and Tv shows."
   ]
  },
  {
   "cell_type": "code",
   "execution_count": null,
   "metadata": {},
   "outputs": [],
   "source": [
    "category = data.filter(['show_id','type']).drop_duplicates()\n",
    "category = pd.DataFrame(category.groupby(['type']).agg(count_type=('type','count')))\n",
    "category.reset_index(level=0,inplace=True)\n",
    "print(data.type.count())\n",
    "fig = px.pie(category, values='count_type', names='type',title='TV-Shows and Movies',color_discrete_sequence=[\"blue\",\"pink\"])\n",
    "fig.show()"
   ]
  },
  {
   "cell_type": "markdown",
   "metadata": {},
   "source": [
    "### Observation\n",
    "- Total number of content 6234.\n",
    "- count of movies are 4265.\n",
    "- count of tv-shows are 1969 \n",
    "- The number of movies on netflix is more than twice the tv-shows."
   ]
  },
  {
   "cell_type": "markdown",
   "metadata": {},
   "source": [
    "## Count the total number of content released per year"
   ]
  },
  {
   "cell_type": "code",
   "execution_count": null,
   "metadata": {},
   "outputs": [],
   "source": [
    "content = data.filter(['show_id','release_year']).drop_duplicates()\n",
    "content = pd.DataFrame(content.groupby(['release_year']).show_id.count())\n",
    "content.reset_index(level=0,inplace=True)\n",
    "content['rank_show_id'] = content.show_id.rank(method='first',ascending=False).astype(np.int32) \n",
    "# content = content[content.rank_show_id < 11]\n",
    "fig = px.bar(x=content.show_id, y=content.release_year,labels={'x':'Number of content','y':'Year'},orientation='h',\n",
    "             title='Movies and TV-Shows are released')\n",
    "fig.show()"
   ]
  },
  {
   "cell_type": "markdown",
   "metadata": {},
   "source": [
    "### Observation\n",
    "- X-axis represent number of content.\n",
    "- Y-axis represent years.\n",
    "- Exponential growth in releasing the content from the year 2008.\n",
    "- In the year 2010 the number of content released is 149 and 2011 the content is 136. Except this, the content per year increases till 2018.\n",
    "- The maximum number of content was released in year 2018 which is 1063."
   ]
  },
  {
   "cell_type": "markdown",
   "metadata": {},
   "source": [
    "## Count the number of tv-shows and movies per year."
   ]
  },
  {
   "cell_type": "code",
   "execution_count": null,
   "metadata": {},
   "outputs": [],
   "source": [
    "year_content = data.filter(['show_id','type','release_year']).drop_duplicates()\n",
    "year_content = pd.DataFrame(year_content.groupby(['type','release_year']).show_id.count())\n",
    "year_content.reset_index(level=[0,1],inplace=True)\n",
    "year_content['rank_show_id'] = year_content.show_id.rank(method='first',ascending=False).astype(np.int32)\n",
    "# year_content = year_content[year_content.rank_show_id < 11]\n",
    "fig = px.bar(x=year_content.release_year, y=year_content.show_id, color=year_content['type'], barmode='group',\n",
    "            labels={'x': 'Year', 'y': 'Number of Movies/Tv-shows'},title='Movies/Tv-shows Released per year')\n",
    "fig.show()"
   ]
  },
  {
   "cell_type": "markdown",
   "metadata": {},
   "source": [
    "### Observation\n",
    "- Bar graph represents number of movies and TV Shows per year.\n",
    "- X-axis represent years.\n",
    "- Y-axis represent count of movies and tv shows.\n",
    "- In the year 2000, the number of content increases but the maximum number of movies released in the year 2017 and the maximum number of TV Show released in 2019.\n",
    "- Exponential growth in tv shows and movies. Tv shows are still increasing after 2017 but the number of movies decreased. Perhaps, due to increased demand for tv shows or delay in adding new movies to the Netflix platform."
   ]
  },
  {
   "cell_type": "markdown",
   "metadata": {},
   "source": [
    "## In which month content added the most?"
   ]
  },
  {
   "cell_type": "code",
   "execution_count": null,
   "metadata": {},
   "outputs": [],
   "source": [
    "month_content = data.filter(['show_id','date_added'])\n",
    "print('Checking null values:','\\n',month_content.isnull().sum(),'\\n')\n",
    "print('drop null values','\\n')\n",
    "month_content['new_date_added'] = pd.to_datetime(month_content.date_added, infer_datetime_format=True)\n",
    "month_content['month'] = pd.DatetimeIndex(month_content.new_date_added).month\n",
    "month_content = pd.DataFrame(month_content.groupby(['month']).show_id.count())\n",
    "month_content.reset_index(level=[0],inplace=True)\n",
    "print('Total rows and columns:',month_content.shape)\n",
    "fig = px.bar(x=month_content.month, y=month_content.show_id,title='Content added per month',\n",
    "             labels={'x':'Months','y':'Number of Movies/TV-Shows'})\n",
    "fig.show()"
   ]
  },
  {
   "cell_type": "markdown",
   "metadata": {},
   "source": [
    "### Observation\n",
    "- X-axis represent months.\n",
    "- Y-axis represent number of content.\n",
    "- The maximum number of content added in the month of December(696) followed by October(646) and November(612)."
   ]
  },
  {
   "cell_type": "markdown",
   "metadata": {},
   "source": [
    "## Which country released most content?"
   ]
  },
  {
   "cell_type": "code",
   "execution_count": null,
   "metadata": {},
   "outputs": [],
   "source": [
    "country_data =  data.filter(['country', 'show_id']).dropna().drop_duplicates()\n",
    "new_country_data = country_data.set_index('show_id')\n",
    "new_country_data = new_country_data.country.str.split(',', expand=True)\n",
    "new_country_data.reset_index(level=[0], inplace=True)\n",
    "new_country_data = new_country_data.melt(id_vars='show_id').dropna().drop_duplicates()\n",
    "print('Checking null values:','\\n',new_country_data.isnull().sum(),'\\n')\n",
    "new_country_data.drop(columns=['variable'], inplace=True)\n",
    "new_country_data.rename(columns={'value':'country_updated'},inplace=True)\n",
    "print('Total rows and columns:',new_country_data.shape)\n",
    "content = new_country_data.filter(['show_id','country_updated'])\n",
    "print('Checking null values:','\\n',content.isnull().sum())\n",
    "content = pd.DataFrame(content.groupby(['country_updated']).show_id.count())\n",
    "content.reset_index(level=[0],inplace=True)\n",
    "content['rank_show_id'] = content.show_id.rank(method='first',ascending=False).astype(np.int32)\n",
    "content = content[content.rank_show_id < 11]\n",
    "content.sort_values(by=['rank_show_id'],ascending=False,inplace=True)\n",
    "print('\\n','Total rows and columns:',content.shape)\n",
    "fig = px.bar(x=content.show_id, y=content.country_updated,labels={'x':'Number of Movies/TV-Shows','y':'Country'},\n",
    "            title='Top 10 countries in content production')\n",
    "fig.show()"
   ]
  },
  {
   "cell_type": "markdown",
   "metadata": {},
   "source": [
    "### Observation\n",
    "- X-axis represent number of movies and tv shows.\n",
    "- Y-axis represent country.\n",
    "- The bar graph shows the top 10 countries which produce maximum content.\n",
    "- Most of the content is released exclusively from the United States. This might be because Netflix has been very popular in the USA for a long time."
   ]
  },
  {
   "cell_type": "markdown",
   "metadata": {},
   "source": [
    "## Distribution of categories available on netflix."
   ]
  },
  {
   "cell_type": "code",
   "execution_count": null,
   "metadata": {},
   "outputs": [],
   "source": [
    "df = data.filter(['show_id','listed_in'])\n",
    "new_df = df.set_index('show_id')\n",
    "new_df = new_df.listed_in.str.split(',', expand=True)\n",
    "new_df.reset_index(level=[0], inplace=True)\n",
    "new_df = new_df.melt(id_vars='show_id').dropna().drop_duplicates()\n",
    "new_df.drop(columns=['variable'], inplace=True)\n",
    "new_df.rename(columns={'value':'genre'},inplace=True)\n",
    "print(new_df.shape)\n",
    "top_category = new_df.filter(['show_id','genre'])\n",
    "top_category['updated_genre'] = top_category['genre'].str.strip()\n",
    "print('Checking null values:','\\n',top_category.isnull().sum(),'\\n')\n",
    "top_category = pd.DataFrame(top_category.groupby(['updated_genre']).show_id.count())\n",
    "top_category.reset_index(level=0,inplace=True)\n",
    "print('Total rows and columns:',top_category.shape)\n",
    "top_category.head()\n",
    "fig = px.bar(y=top_category.updated_genre, x=top_category.show_id,labels={'y':'Categories of Movies/TV-Shows','x':'Number of content'},\n",
    "            title='Categories on Netflix')\n",
    "fig.show()"
   ]
  },
  {
   "cell_type": "markdown",
   "metadata": {},
   "source": [
    "### Observation\n",
    "- y-axis represent categories.\n",
    "- x-axis represent number of content\n",
    "- Total 42 categories in Netflix in which international movies are at the top with 1927 number of content followed by Dramas, Comedies."
   ]
  },
  {
   "cell_type": "markdown",
   "metadata": {},
   "source": [
    "## Top 10 actors on Netflix with most movies."
   ]
  },
  {
   "cell_type": "code",
   "execution_count": null,
   "metadata": {},
   "outputs": [],
   "source": [
    "df_actor = data.filter(['show_id','type','cast'])\n",
    "df_actor = df_actor[df_actor.type == 'Movie']\n",
    "print('checking null values')\n",
    "print(df_actor.isnull().sum(),'\\n')\n",
    "df_actor.dropna(inplace=True)\n",
    "print('Drop null values')\n",
    "print(df_actor.isnull().sum(),'\\n')\n",
    "new_df_actor = df_actor.set_index('show_id')\n",
    "new_df_actor = new_df_actor.cast.str.split(',', expand=True)\n",
    "new_df_actor.reset_index(level=[0], inplace=True)\n",
    "new_df_actor = new_df_actor.melt(id_vars='show_id').dropna().drop_duplicates()\n",
    "new_df_actor.drop(columns=['variable'], inplace=True)\n",
    "new_df_actor.rename(columns={'value':'new_cast'},inplace=True)\n",
    "print('Total rows and columns:',new_df_actor.shape)\n",
    "top_actors = new_df_actor.filter(['show_id','new_cast'])\n",
    "top_actors = pd.DataFrame(top_actors.groupby(['new_cast']).show_id.count())\n",
    "top_actors.reset_index(level=0,inplace=True)\n",
    "top_actors['rank_show_id'] = top_actors.show_id.rank(method='first',ascending=False).astype(np.int32)\n",
    "top_actors = top_actors[top_actors.rank_show_id < 11]\n",
    "top_actors.sort_values(by=['rank_show_id'],ascending=False,inplace=True)\n",
    "print('Total rows and columns:',top_actors.shape)\n",
    "fig = px.bar(x=top_actors.show_id, y=top_actors.new_cast,labels={'x':'Number of Movies','y':'Actors'},\n",
    "            title='Top 10 actors with most movies')\n",
    "fig.show()"
   ]
  },
  {
   "cell_type": "markdown",
   "metadata": {},
   "source": [
    "### Observation\n",
    "- X-axis represent number of movies.\n",
    "- Y-axis represent actors name.\n",
    "- Anupam Kher is an Indian actor top in the list with 29 movies, followed by om puri, shah rukh khan\n",
    "- Asrani and John Cleese had done same number of movies."
   ]
  },
  {
   "cell_type": "markdown",
   "metadata": {},
   "source": [
    "## Top 10 actors on Netflix with most tv shows."
   ]
  },
  {
   "cell_type": "code",
   "execution_count": null,
   "metadata": {},
   "outputs": [],
   "source": [
    "df_tv_actor = data.filter(['show_id','type','cast'])\n",
    "df_tv_actor = df_tv_actor[df_tv_actor.type == 'TV Show']\n",
    "print('checking null values:')\n",
    "print(df_tv_actor.isnull().sum(),'\\n')\n",
    "print('Drop null values:',df_tv_actor.dropna(inplace=True))\n",
    "new_df_tv_actor = df_tv_actor.set_index('show_id')\n",
    "new_df_tv_actor = new_df_tv_actor.cast.str.split(',', expand=True)\n",
    "new_df_tv_actor.reset_index(level=[0], inplace=True)\n",
    "new_df_tv_actor = new_df_tv_actor.melt(id_vars='show_id').dropna().drop_duplicates()\n",
    "new_df_tv_actor.drop(columns=['variable'], inplace=True)\n",
    "print('Total rows and columns:',new_df_tv_actor.shape)\n",
    "new_df_tv_actor.rename(columns={'value':'new_tv_cast'},inplace=True)\n",
    "top_tv_actors = new_df_tv_actor.filter(['show_id','new_tv_cast'])\n",
    "top_tv_actors = pd.DataFrame(top_tv_actors.groupby(['new_tv_cast']).show_id.count())\n",
    "top_tv_actors.reset_index(level=0,inplace=True)\n",
    "top_tv_actors['rank_show_id'] = top_tv_actors.show_id.rank(method='first',ascending=False).astype(np.int32)\n",
    "top_tv_actors = top_tv_actors[top_tv_actors.rank_show_id < 11]\n",
    "top_tv_actors.sort_values(by=['rank_show_id'],ascending=False,inplace=True)\n",
    "print('Total rows and columns:',top_tv_actors.shape)\n",
    "fig = px.bar(x=top_tv_actors.show_id, y=top_tv_actors.new_tv_cast,labels={'x':'Number of TV-Shows','y':'Actors'},\n",
    "            title='Top 10 actors with most TV Shows')\n",
    "fig.show()"
   ]
  },
  {
   "cell_type": "markdown",
   "metadata": {},
   "source": [
    "### Observation\n",
    "- Bar graph represet top 10 actors who had done most tv shows.\n",
    "- X-axis represent number of tv shows.\n",
    "- Y-axis represent actors.\n",
    "- Takahiro Sakurai at the top and works in 18 TV shows.\n",
    "- Yuki Kaji and David Attenborough had done 14 tv shows each.\n",
    "- Ai and Kayano and Daisuke Ono had done same number of shows.\n",
    "- Ashleigh Ball, Hiroshi Kamiya, and Mamoru Miyano were done the same number of shows."
   ]
  },
  {
   "cell_type": "markdown",
   "metadata": {},
   "source": [
    "## Which director directs maximum content in India?"
   ]
  },
  {
   "cell_type": "code",
   "execution_count": null,
   "metadata": {},
   "outputs": [],
   "source": [
    "india_director = data.filter(['show_id','director','country'])\n",
    "print('checking null values')\n",
    "print(india_director.isnull().sum(),'\\n')\n",
    "print('Drop null values')\n",
    "india_director.dropna(inplace=True)\n",
    "india_director = india_director.set_index('show_id')\n",
    "india_director = india_director.director.str.split(',', expand=True)\n",
    "india_director.reset_index(level=[0], inplace=True)\n",
    "india_director = india_director.melt(id_vars='show_id').dropna().drop_duplicates()\n",
    "print('Total rows and columns:',india_director.shape)\n",
    "india_director.drop(columns=['variable'], inplace=True)\n",
    "india_director.rename(columns={'value':'new_director'},inplace=True)\n",
    "india_director = india_director.merge(new_country_data,on='show_id')\n",
    "india_director = india_director[india_director.country_updated == 'India']\n",
    "india_director = pd.DataFrame(india_director.groupby(['new_director']).show_id.count())\n",
    "india_director.reset_index(level=0,inplace=True)\n",
    "india_director['rank_show_id'] = india_director.show_id.rank(method='first',ascending=False).astype(np.int32)\n",
    "india_director = india_director[india_director.rank_show_id < 11]\n",
    "india_director.sort_values(by=['rank_show_id'],ascending=False,inplace=True)\n",
    "fig = px.bar(x=india_director.show_id, y=india_director.new_director,labels={'x':'Number of content','y':'Directors'},\n",
    "            title='Top 10 Indian Directors with most content')\n",
    "fig.show()"
   ]
  },
  {
   "cell_type": "markdown",
   "metadata": {},
   "source": [
    "### Observation\n",
    "- X-axis represent number of content\n",
    "- Y-axis represent directors.\n",
    "- David Dhawan directs the maximum number of movies/tv-shows in India, followed by S.S. Rajamouli\n",
    "- Out of the top 10, the last 7 directors direct the same number of content."
   ]
  },
  {
   "cell_type": "markdown",
   "metadata": {},
   "source": [
    "## Top 10 directors with number of content."
   ]
  },
  {
   "cell_type": "code",
   "execution_count": null,
   "metadata": {},
   "outputs": [],
   "source": [
    "directors = data.filter(['show_id','director','country'])\n",
    "print('checking null values')\n",
    "print(directors.isnull().sum(),'\\n')\n",
    "print('Drop null values')\n",
    "directors.dropna(inplace=True)\n",
    "directors = directors.set_index('show_id')\n",
    "directors = directors.director.str.split(',', expand=True)\n",
    "directors.reset_index(level=[0], inplace=True)\n",
    "directors = directors.melt(id_vars='show_id').dropna().drop_duplicates()\n",
    "print('Total rows and columns:',directors.shape)\n",
    "directors.drop(columns=['variable'], inplace=True)\n",
    "directors.rename(columns={'value':'new_director'},inplace=True)\n",
    "directors = directors.merge(new_country_data,on='show_id')\n",
    "directors = pd.DataFrame(directors.groupby(['new_director']).show_id.count())\n",
    "directors.reset_index(level=0,inplace=True)\n",
    "directors['rank_show_id'] = directors.show_id.rank(method='first',ascending=False).astype(np.int32)\n",
    "directors = directors[directors.rank_show_id < 11]\n",
    "directors.sort_values(by=['rank_show_id'],ascending=False,inplace=True)\n",
    "fig = px.bar(x=directors.show_id, y=directors.new_director,labels={'x':'Number of content','y':'Directors'},\n",
    "            title='Top 10 directors with most content')\n",
    "fig.show()"
   ]
  },
  {
   "cell_type": "markdown",
   "metadata": {},
   "source": [
    "### Observation\n",
    "- X-axis represent number of content\n",
    "- Y-axis represent directors.\n",
    "- Jan Suter and Raul Campos are on the top with the same number of content(18).\n",
    "- jay karas and steven spielberg had done the same number of movies/tv-shows.\n",
    "- Jay Chapman, Marcus Raboy, and Matthew Salleh had done 12 number of content each."
   ]
  },
  {
   "cell_type": "markdown",
   "metadata": {},
   "source": [
    "## Which countries produce stand-up comedy on Netflix?"
   ]
  },
  {
   "cell_type": "code",
   "execution_count": null,
   "metadata": {},
   "outputs": [],
   "source": [
    "test = new_df.filter(['show_id','genre'])\n",
    "test = test[test.genre == 'Stand-Up Comedy']\n",
    "test = test.merge(new_country_data,on='show_id')\n",
    "print('Checking null values','\\n',test.isnull().sum())\n",
    "test = pd.DataFrame(test.groupby(['country_updated']).show_id.count())\n",
    "test.reset_index(level=0,inplace=True)\n",
    "fig = px.bar(x=test.country_updated, y=test.show_id,labels={'x':'Countries','y':'Number of shows'},\n",
    "            title='Stand-up comedy per country')\n",
    "fig.show()"
   ]
  },
  {
   "cell_type": "markdown",
   "metadata": {},
   "source": [
    "### Observation\n",
    "- The bar graph represents the Stand-up comedy category per country.\n",
    "- Total 17 countries\n",
    "- X-axis represent countries\n",
    "- Y-axis represent number of shows.\n",
    "- United states at the top with 181 shows.\n",
    "- The United States was more than the sum of the remaining 16 countries content."
   ]
  },
  {
   "cell_type": "markdown",
   "metadata": {},
   "source": [
    "## Distribution of Movie Duration."
   ]
  },
  {
   "cell_type": "code",
   "execution_count": null,
   "metadata": {},
   "outputs": [],
   "source": [
    "movies = data.filter(['show_id','type','duration'])\n",
    "print(movies.isnull().sum(),'\\n')\n",
    "movies = movies[movies['type'] == 'Movie']\n",
    "movies.replace('min','',regex=True, inplace = True)\n",
    "movies['time_duration'] = movies.duration.str.strip().astype(np.int32)\n",
    "print(movies.dtypes)\n",
    "fig = px.histogram(x=movies.time_duration)\n",
    "fig.update_xaxes(title_text='Time in minutes')\n",
    "fig.update_yaxes(title_text='Total number of movies')\n",
    "fig.show()"
   ]
  },
  {
   "cell_type": "markdown",
   "metadata": {},
   "source": [
    "## Find the number of seasons in tv shows."
   ]
  },
  {
   "cell_type": "code",
   "execution_count": null,
   "metadata": {},
   "outputs": [],
   "source": [
    "tv = data.filter(['show_id','type','duration'])\n",
    "tv = tv[tv['type'] == 'TV Show']\n",
    "tv.duration.replace('[Season,Seasons]','',regex=True, inplace = True)\n",
    "tv['updated_duration'] = tv.duration.str.strip().astype(np.int32)\n",
    "tv = pd.DataFrame(tv.groupby(['updated_duration']).show_id.count()).astype(np.int32)\n",
    "tv.reset_index(level=[0],inplace=True)\n",
    "print(tv.dtypes)\n",
    "fig = px.bar(x=tv.updated_duration,y=tv.show_id,labels={'x':'Number of Seasons','y':'Number of Shows'},\n",
    "            title='TV Shows with Seasons')\n",
    "fig.show()"
   ]
  },
  {
   "cell_type": "markdown",
   "metadata": {},
   "source": [
    "### Observation\n",
    "- X-axis represent season count.\n",
    "- Y-axis represent show count.\n",
    "- There are total 15 seasons.\n",
    "- A large number of TV Shows(1321) have only 1 season..\n",
    "- 186 TV Shows have more than 4 seasons. \n",
    "- 'Supernatural' is a TV Show that has 14 seasons.\n",
    "- 'Grey's Anatomy' and 'NCIS' both have 15 seasons."
   ]
  },
  {
   "cell_type": "markdown",
   "metadata": {},
   "source": [
    "## How soon movies are available on netflix after release?"
   ]
  },
  {
   "cell_type": "code",
   "execution_count": null,
   "metadata": {},
   "outputs": [],
   "source": [
    "available = data.filter(['show_id','type','date_added','release_year'])\n",
    "print(available.isnull().sum())\n",
    "print('\\n','drop null values')\n",
    "available.dropna(inplace=True)\n",
    "available = available[available.type == 'Movie']\n",
    "available['new_date_added'] = pd.to_datetime(available.date_added, infer_datetime_format=True)\n",
    "available['date_added_year'] = pd.DatetimeIndex(available.new_date_added).year\n",
    "available['difference'] = available.date_added_year - available.release_year\n",
    "available.drop(columns = ['date_added','new_date_added'],inplace=True)\n",
    "available = pd.DataFrame(available.groupby(['date_added_year']).agg({'difference': ['mean', 'median']}))\n",
    "available.reset_index(level=[0], inplace=True)\n",
    "available.columns = ['year_date_added', 'difference_mean', 'difference_median']\n",
    "fig = go.Figure()\n",
    "fig.add_trace(go.Bar(\n",
    "    x=available.year_date_added,\n",
    "    y=available.difference_mean,\n",
    "    name='mean',\n",
    "    marker_color='indianred'\n",
    "))\n",
    "fig.add_trace(go.Bar(\n",
    "    x=available.year_date_added,\n",
    "    y=available.difference_median,\n",
    "    name='median',\n",
    "    marker_color='green'\n",
    "))\n",
    "fig.update_layout(barmode='group', xaxis_tickangle=-45, title='Movies available on Netflix after release')\n",
    "fig.update_xaxes(title_text=\"Years\")\n",
    "fig.update_yaxes(title_text=\"Mean/Median count\")\n",
    "fig.show()"
   ]
  }
 ],
 "metadata": {
  "kernelspec": {
   "display_name": "Python 3",
   "language": "python",
   "name": "python3"
  }
 },
 "nbformat": 4,
 "nbformat_minor": 4
}
