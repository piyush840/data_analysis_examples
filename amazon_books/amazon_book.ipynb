{
 "cells": [
  {
   "cell_type": "markdown",
   "metadata": {},
   "source": [
    "## Introduction\n",
    "- Dataset on Amazon's Top 50 bestselling books from 2009 to 2019. Contains 550 books, data has been categorized into fiction and non-fiction using Goodreads"
   ]
  },
  {
   "cell_type": "markdown",
   "metadata": {},
   "source": [
    "## Data source\n",
    "- https://www.kaggle.com/sootersaalu/amazon-top-50-bestselling-books-2009-2019"
   ]
  },
  {
   "cell_type": "markdown",
   "metadata": {},
   "source": [
    "## Data description\n",
    "- In this data there are total 550 rows and 7 columns.\n",
    "- 'Name' - Book title.\n",
    "- 'Author' - Person who wrote the book.\n",
    "- 'User Rating' - Book rating out of 5.\n",
    "- 'Reviews' - Number of people/readers reviewing the book via. rating.\n",
    "- 'Price' - Cost of each book in US dollars.\n",
    "- 'Year' - Book launch year.\n",
    "- 'Genre' - Categories of books\n",
    "- To analyse tha data using python libraries pandas and numpy and for data visualisation using plotly library. "
   ]
  },
  {
   "cell_type": "markdown",
   "metadata": {},
   "source": [
    "## Tasks performed in this analysis\n",
    "- Distribution of genre in complete dataset.\n",
    "- Visualize the distribution of genre per year.\n",
    "- Top 10 most profitable authors\n",
    "- Most profitable author per year of each genre\n",
    "- The top 10 books with maximum number of reviews\n",
    "- The books with the maximum number of reviews per year.\n",
    "- Visualize the distribution of genre with respect to reviews.\n",
    "- Top 10 books with the highest rating.\n",
    "- Does a higher rating of the books affect its price? \n",
    "- Is the mean price is changing over the years?\n",
    "- Mean price per genre."
   ]
  },
  {
   "cell_type": "code",
   "execution_count": null,
   "metadata": {},
   "outputs": [],
   "source": [
    "import pandas as pd\n",
    "import numpy as np\n",
    "import plotly.express as px\n",
    "import plotly.graph_objects as go\n",
    "import warnings\n",
    "warnings.filterwarnings('ignore')"
   ]
  },
  {
   "cell_type": "code",
   "execution_count": null,
   "metadata": {},
   "outputs": [],
   "source": [
    "data = pd.read_csv('bestsellers_with_categories.csv')\n",
    "data.drop_duplicates(inplace=True)\n",
    "data.head()"
   ]
  },
  {
   "cell_type": "markdown",
   "metadata": {},
   "source": [
    "## Distribution of genre in complete dataset."
   ]
  },
  {
   "cell_type": "code",
   "execution_count": null,
   "metadata": {},
   "outputs": [],
   "source": [
    "print(data.filter(['Name','Genre']).shape)\n",
    "print(data.filter(['Name','Genre']).drop_duplicates().shape)"
   ]
  },
  {
   "cell_type": "code",
   "execution_count": null,
   "metadata": {},
   "outputs": [],
   "source": [
    "category = data.filter(['Name','Genre']).drop_duplicates()\n",
    "category.isnull().sum()\n",
    "# category.drop_duplicates(inplace=True)\n",
    "category = category.groupby(['Genre']).agg(count_genre=('Genre','count'))\n",
    "category.reset_index(level=0,inplace=True)\n",
    "fig = px.pie(category, values='count_genre', names='Genre',title='Distribution of genre')\n",
    "fig.show()"
   ]
  },
  {
   "cell_type": "markdown",
   "metadata": {},
   "source": [
    "### Observation - \n",
    "- Pie chart shows the distribution between fiction and non-fiction books.\n",
    "- 160 books genre is fiction and 191 genre is non-fiction which is slightly higher.\n",
    "- Non-fiction books is 8.8 % higher than fiction books "
   ]
  },
  {
   "cell_type": "markdown",
   "metadata": {},
   "source": [
    "## Visualize the distribution of genre per year."
   ]
  },
  {
   "cell_type": "code",
   "execution_count": null,
   "metadata": {},
   "outputs": [],
   "source": [
    "year_genre = data.filter(['Name','Year','Genre'])\n",
    "# year_genre.drop_duplicates(inplace=True)\n",
    "year_genre = year_genre.groupby(['Year','Genre']).agg(count_book = ('Name','count'))\n",
    "year_genre.reset_index(level=[0,1],inplace=True)\n",
    "fig = px.bar(x=year_genre.Year, y=year_genre.count_book, color=year_genre['Genre'], barmode='group',\n",
    "            labels={'x': 'Year', 'y': 'Total number of books','color':'Genre'},title='Genre comparison per year')\n",
    "fig.show()"
   ]
  },
  {
   "cell_type": "markdown",
   "metadata": {},
   "source": [
    "### Observation - \n",
    "- X-axis represents year and Y-axis represents total number of books.\n",
    "- We have more books from non-fiction genre over all years, except for 2014.\n",
    "- We can observe a small rise in fiction book from 2010 to 2014."
   ]
  },
  {
   "cell_type": "markdown",
   "metadata": {},
   "source": [
    "## Top 10 most profitable authors\n",
    "Limitation \n",
    "- Sales data is not avialble in a dataset.\n",
    "\n",
    "Assumption\n",
    "- If we assume all readers have provided a review then we can assume the number of reviews as number of books sold.\n",
    "\n",
    "Hence, we can compute profit as the product of reviews and price for a given year."
   ]
  },
  {
   "cell_type": "code",
   "execution_count": null,
   "metadata": {},
   "outputs": [],
   "source": [
    "bestselling = data.filter(['Name','Author','Reviews','Price','Genre'])\n",
    "bestselling.drop_duplicates(subset=['Name'],inplace=True)\n",
    "bestselling['selling_price'] = bestselling['Reviews'] * bestselling['Price']\n",
    "\n",
    "bestselling_fiction = bestselling[bestselling.Genre == 'Fiction']\n",
    "bestselling_fiction['rank_fiction_price'] = bestselling_fiction.selling_price.rank(method='first',ascending=False).astype(np.int32)\n",
    "bestselling_fiction = bestselling_fiction[bestselling_fiction.rank_fiction_price < 11].copy()\n",
    "\n",
    "bestselling_non_fiction = bestselling[bestselling.Genre == 'Non Fiction']\n",
    "bestselling_non_fiction['rank_non_fiction_price'] = bestselling_non_fiction.selling_price.rank(method='first',ascending=False).astype(np.int32)\n",
    "bestselling_non_fiction = bestselling_non_fiction[bestselling_non_fiction.rank_non_fiction_price < 11].copy()\n",
    "\n",
    "fig = go.Figure(data=[\n",
    "    go.Bar(name='Fiction', x=bestselling_fiction.Author, y=bestselling_fiction.selling_price),\n",
    "    go.Bar(name='Non-Fiction', x=bestselling_non_fiction.Author, y=bestselling_non_fiction.selling_price)\n",
    "])\n",
    "fig.update_layout(barmode='group',title='Top 10 profitable author per genre')\n",
    "fig.update_xaxes(title_text=\"Authors\")\n",
    "fig.update_yaxes(title_text=\"Price in $\")\n",
    "fig.show()"
   ]
  },
  {
   "cell_type": "markdown",
   "metadata": {},
   "source": [
    "### Observation\n",
    "- Bar graph represent the best-seller from 2009 to 2019.\n",
    "- X-axis represent authors name.\n",
    "- Y-axis represent selling price.\n",
    "- Paula hawkins is the best-seller in fiction followed by Paulo Coelho.\n",
    "- American psychiatric association is the best-seller in non-fiction followed by Michelle Obama."
   ]
  },
  {
   "cell_type": "markdown",
   "metadata": {},
   "source": [
    "## Most profitable author per year of each genre"
   ]
  },
  {
   "cell_type": "code",
   "execution_count": null,
   "metadata": {},
   "outputs": [],
   "source": [
    "fiction = data.filter(['Name','Author','Year','Reviews','Price','Genre'])\n",
    "# df.drop_duplicates(subset=['Name'],inplace=True)\n",
    "fiction['fiction_selling_price'] = fiction['Reviews']* fiction['Price']\n",
    "fiction = pd.DataFrame(fiction.groupby(['Year','Author','Genre']).agg({'fiction_selling_price':'sum'}))\n",
    "fiction.reset_index(level=[0,1,2],inplace=True)\n",
    "fiction = fiction[fiction.Genre == 'Fiction']\n",
    "fiction['rank_price'] = fiction.groupby(['Year'])['fiction_selling_price'].rank(method='first',ascending=False).astype(np.int32)\n",
    "fiction = fiction[fiction.rank_price == 1]\n",
    "\n",
    "non_fiction = data.filter(['Name','Author','Year','Reviews','Price','Genre'])\n",
    "non_fiction['non_fiction_selling_price'] = non_fiction['Reviews']* non_fiction['Price']\n",
    "non_fiction = pd.DataFrame(non_fiction.groupby(['Year','Author','Genre']).agg({'non_fiction_selling_price':'sum'}))\n",
    "non_fiction.reset_index(level=[0,1,2],inplace=True)\n",
    "non_fiction = non_fiction[non_fiction.Genre == 'Non Fiction']\n",
    "non_fiction['rank_price'] = non_fiction.groupby(['Year'])['non_fiction_selling_price'].rank(method='first',ascending=False).astype(np.int32)\n",
    "non_fiction = non_fiction[non_fiction.rank_price == 1]\n",
    "fig = px.bar(y=fiction.Author, x=fiction.fiction_selling_price,color=fiction['Year'],title='Most profitable author in fiction',\n",
    "            labels={'x': 'Price in $', 'y': 'Authors','color':'Year'})\n",
    "fig.show()"
   ]
  },
  {
   "cell_type": "markdown",
   "metadata": {},
   "source": [
    "### Observation\n",
    "- X-axis represent profit in dollars.\n",
    "- Y-axis represent authors.\n",
    "- Wixards RPG Team profitale in 2017 and 2018.\n",
    "- Suzanne collins profitable in 2010 and 2011."
   ]
  },
  {
   "cell_type": "code",
   "execution_count": null,
   "metadata": {},
   "outputs": [],
   "source": [
    "fig = px.bar(y=non_fiction.Author, x=non_fiction.non_fiction_selling_price,color=non_fiction.Year,title='Most profitable author in non-fiction',\n",
    "            labels={'x': 'Price in $', 'y': 'Authors','color':'Year'})\n",
    "fig.show()"
   ]
  },
  {
   "cell_type": "markdown",
   "metadata": {},
   "source": [
    "### Observation\n",
    "- X-axis represent profit in dollars.\n",
    "- Y-axis represet authors.\n",
    "- American Psychological Association was the profitable author in 2009, 2015 and 2016\n",
    "- Laura Hillenbrand was the profitable author in 2010, 2011, 2012 and 2014.\n",
    "- Michelle Obama was the profitable author in 2018 and 2019."
   ]
  },
  {
   "cell_type": "markdown",
   "metadata": {},
   "source": [
    "## The top 10 books with maximum number of reviews"
   ]
  },
  {
   "cell_type": "code",
   "execution_count": null,
   "metadata": {},
   "outputs": [],
   "source": [
    "most_rvs = data.filter(['Name','Reviews'])\n",
    "most_rvs.drop_duplicates(subset=['Name'],inplace=True)\n",
    "most_rvs.isnull().sum()\n",
    "most_rvs['rank_reviews'] = most_rvs.Reviews.rank(method='first',ascending=False).astype(np.int32)\n",
    "most_rvs = most_rvs[most_rvs.rank_reviews < 11]\n",
    "most_rvs.sort_values(by=['rank_reviews'],ascending=False,inplace=True)\n",
    "fig = px.bar(y=most_rvs.Name, x=most_rvs.Reviews,title='Top 10 books with maximum Reviews',labels={'x': 'Total Reviews', 'y': 'Book Title'})\n",
    "fig.show()"
   ]
  },
  {
   "cell_type": "markdown",
   "metadata": {},
   "source": [
    "### Observation -\n",
    "- X-axis represent the total number of reviews.\n",
    "- Y-axis represent the books name.\n",
    "- The number of reviews ranges between 37 and 87,841. \n",
    "- By far the most reviews have been given to 'Where the Crawdads Sing' by Delia Owens with a user rating of 4.8 and 'The Girl on the Train' by Paula Hawkings with a user rating of 4.1."
   ]
  },
  {
   "cell_type": "markdown",
   "metadata": {},
   "source": [
    "## The books with the maximum number of reviews per year."
   ]
  },
  {
   "cell_type": "code",
   "execution_count": null,
   "metadata": {},
   "outputs": [],
   "source": [
    "most_rvs_year = data.filter(['Name','Year','Reviews'])\n",
    "# most_rvs_year.drop_duplicates(subset=['Name'],inplace=True)\n",
    "most_rvs_year = pd.DataFrame(most_rvs_year.groupby(['Year','Name']).Reviews.max())\n",
    "most_rvs_year.reset_index(level=[0,1],inplace=True)\n",
    "most_rvs_year['rank_Reviews'] = most_rvs_year.groupby(['Year']).Reviews.rank(method='first',ascending=False).astype(np.int32)\n",
    "most_rvs_year = most_rvs_year[most_rvs_year.rank_Reviews == 1]\n",
    "most_rvs_year\n",
    "fig = px.bar(x=most_rvs_year.Year, y=most_rvs_year.Reviews,color=most_rvs_year.Name,title='Books with the maximum number of reviews per year',\n",
    "             labels={'x': 'Years', 'y': 'Total Reviews'})\n",
    "fig.show()"
   ]
  },
  {
   "cell_type": "markdown",
   "metadata": {},
   "source": [
    "### Observation\n",
    "- X-axis represent years.\n",
    "- Y-axis represent Reviews.\n",
    "- \"Gone Girl\" recorded the maximum number of reviews in three consecutive years(2012-2014).\n",
    "- \"The Girl on the Train\" recorded the maximum number of reviews in two consecutive years(2015-2016).\n",
    "- \"Where the Crawdads Sing\" recorded highest number of reviews in 2019."
   ]
  },
  {
   "cell_type": "markdown",
   "metadata": {},
   "source": [
    "## Visualize the distribution of genre with respect to reviews."
   ]
  },
  {
   "cell_type": "code",
   "execution_count": null,
   "metadata": {},
   "outputs": [],
   "source": [
    "genre_diff = data.filter(['Genre','Reviews'])\n",
    "genre_diff = genre_diff.groupby(['Genre']).agg({'Reviews':'sum'})\n",
    "genre_diff.reset_index(level=0,inplace=True)\n",
    "fig = px.pie(genre_diff, values='Reviews', names='Genre',title='Review comparision per genre')\n",
    "fig.show()"
   ]
  },
  {
   "cell_type": "markdown",
   "metadata": {},
   "source": [
    "### Observation - \n",
    "- Total number of reviews 6,574,305.\n",
    "- Fiction reviews 3,764,110.\n",
    "- Non Fiction reviews 2,810,195."
   ]
  },
  {
   "cell_type": "markdown",
   "metadata": {},
   "source": [
    "## Top 10 books with the highest rating."
   ]
  },
  {
   "cell_type": "code",
   "execution_count": null,
   "metadata": {},
   "outputs": [],
   "source": [
    "max_rating = data.filter(['Name','Author','User Rating','Reviews']).drop_duplicates()\n",
    "max_rating['rank_rating'] = max_rating['User Rating'].rank(method='first',ascending=False).astype(np.int32)\n",
    "# max_rating = max_rating[max_rating.rank_rating < 11]\n",
    "max_rating['rank_review'] = max_rating['Reviews'].rank(method='first',ascending=False).astype(np.int32)\n",
    "# max_rating = max_rating[max_rating.rank_review < 11]\n",
    "print(max_rating.rank_rating.min(), max_rating.rank_rating.max())\n",
    "print(max_rating.rank_review.min(), max_rating.rank_review.max())\n",
    "max_rating['total_rank'] = (max_rating['rank_rating'] + max_rating['rank_review'])/2\n",
    "max_rating['rank_total'] = max_rating['total_rank'].rank(method='first',ascending=True).astype(np.int32)\n",
    "max_rating = max_rating[max_rating.rank_total < 11]\n",
    "fig = px.bar(y=max_rating.Name, x=max_rating['User Rating'],labels={'x':'Rating','y':'Book Title'},title='Top 10 books with maximum rating')\n",
    "fig.show()"
   ]
  },
  {
   "cell_type": "markdown",
   "metadata": {},
   "source": [
    "### Observation\n",
    "- The bar graph represent top 10 higher rating books. \n",
    "- X-axis represent rating.\n",
    "- Y-axis represent book title.\n",
    "- 6 books have rating of 4.9.\n",
    "- 4 books have rating of 4.8."
   ]
  },
  {
   "cell_type": "markdown",
   "metadata": {},
   "source": [
    "##  Does a higher rating of the books affect its price?"
   ]
  },
  {
   "cell_type": "code",
   "execution_count": null,
   "metadata": {},
   "outputs": [],
   "source": [
    "rating_price = data.filter(['Author','Name','User Rating','Price','Reviews']).drop_duplicates()\n",
    "print(rating_price.isnull().sum().sum())\n",
    "rating_price = pd.DataFrame(rating_price.groupby(['User Rating']).agg({'Price': 'mean', 'Name': 'nunique'}))\n",
    "rating_price.reset_index(level=0,inplace=True)\n",
    "fig = px.scatter(rating_price, x=\"User Rating\", y=\"Price\", title='Higher rating affect on price', size='Name')\n",
    "fig.update_xaxes(title_text=\"User Rating\")\n",
    "fig.update_yaxes(title_text=\"Price in $\")\n",
    "fig.show()"
   ]
  },
  {
   "cell_type": "markdown",
   "metadata": {},
   "source": [
    "### Observation - \n",
    "- X-axis represent user rating.\n",
    "- Y-axis represent price in dollars.\n",
    "- There is no clear relationship between user rating and price.\n",
    "- We have seen that the number of books are more in higher rating. "
   ]
  },
  {
   "cell_type": "markdown",
   "metadata": {},
   "source": [
    "## Is the mean price is changing over the years?"
   ]
  },
  {
   "cell_type": "code",
   "execution_count": null,
   "metadata": {},
   "outputs": [],
   "source": [
    "price_year = data.filter(['Price','Year'])\n",
    "price_year = pd.DataFrame(price_year.groupby(['Year']).Price.mean())\n",
    "price_year.reset_index(level=0,inplace=True)\n",
    "fig = px.line(price_year, x=\"Year\", y=\"Price\", title='Mean price change over the years')\n",
    "fig.update_xaxes(title_text=\"Year\")\n",
    "fig.update_yaxes(title_text=\"Price in $\")\n",
    "fig.show()"
   ]
  },
  {
   "cell_type": "markdown",
   "metadata": {},
   "source": [
    "### Observation\n",
    "- X-axis represent years.\n",
    "- Y-axis represent price in dollars.\n",
    "- Sudden fall in price between 2014-2015 but we don't know the reason because unavailability of data."
   ]
  },
  {
   "cell_type": "markdown",
   "metadata": {},
   "source": [
    "## Mean price per genre."
   ]
  },
  {
   "cell_type": "code",
   "execution_count": null,
   "metadata": {},
   "outputs": [],
   "source": [
    "genre_price = data.filter(['Price','Genre'])\n",
    "genre_price = pd.DataFrame(genre_price.groupby(['Genre']).Price.mean())\n",
    "genre_price.reset_index(level=0,inplace=True)\n",
    "fig = px.bar(genre_price, x='Genre', y='Price',title='Mean price per genre')\n",
    "fig.update_xaxes(title_text=\"Genre\")\n",
    "fig.update_yaxes(title_text=\"Price in $\")\n",
    "fig.show()"
   ]
  },
  {
   "cell_type": "markdown",
   "metadata": {},
   "source": [
    "### Observation\n",
    "- X-axis represent genre.\n",
    "- Y-axis represent price in dollars.\n",
    "- Mean price of non fiction is 14.84.\n",
    "- Mean price of fiction is 10.85"
   ]
  }
 ],
 "metadata": {
  "kernelspec": {
   "display_name": "Python 3",
   "language": "python",
   "name": "python3"
  }
 },
 "nbformat": 4,
 "nbformat_minor": 4
}
