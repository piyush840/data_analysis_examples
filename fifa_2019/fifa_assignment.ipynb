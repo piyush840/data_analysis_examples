{
 "cells": [
  {
   "cell_type": "markdown",
   "metadata": {},
   "source": [
    "## Data Analysis of the FIFA dataset  \n",
    "\n",
    "  ### About the data - \n",
    "- FIFA is the Fédération Internationale de Football Association for some people fifa is not just a game it is an emotion.\n",
    "- There are hundereds of clubs and thousands of players playing for them from various nationality across all over the globe. \n",
    "- The dataset contains 88 columns and 18207 rows.\n",
    "- To analyse tha data using python libraries pandas and numpy and for data visualisation using plotly library.\n",
    "- Let's analyse the data and try to answer some interesting questions."
   ]
  },
  {
   "cell_type": "markdown",
   "metadata": {},
   "source": [
    "## Data source\n",
    "- https://www.kaggle.com/karangadiya/fifa19"
   ]
  },
  {
   "cell_type": "markdown",
   "metadata": {},
   "source": [
    "## Tasks performed in this analysis\n",
    "- Best players for each position via overall rating.\n",
    "- The total number of right foot and left foot players\n",
    "- Check if the preferred foot of the players has any impact on the position of a player\n",
    "- Discover how many players have a wage which is in the range 100k-500k.\n",
    "- Display the distribution of the player's nationalities.\n",
    "- Find the average rating of players per country.\n",
    "    - Following this analysis, find the list of the countries with the best players.\n",
    "- Display the distribution of the positions of all players.\n",
    "- When does the contract expire for the players?\n",
    "- The distribution of players values.\n",
    "- The age distribution among players.\n",
    "- The top 10 potential players."
   ]
  },
  {
   "cell_type": "code",
   "execution_count": null,
   "metadata": {},
   "outputs": [],
   "source": [
    "import pandas as pd\n",
    "import numpy as np\n",
    "import matplotlib.pyplot as plt\n",
    "import plotly.express as px\n",
    "import plotly.graph_objects as go\n",
    "import datetime\n",
    "import warnings\n",
    "warnings.filterwarnings('ignore')"
   ]
  },
  {
   "cell_type": "code",
   "execution_count": null,
   "metadata": {},
   "outputs": [],
   "source": [
    "#read the csv file\n",
    "data = pd.read_csv('fifa_data.csv')\n",
    "data.drop(columns='Unnamed: 0',inplace=True)\n",
    "data.head()"
   ]
  },
  {
   "cell_type": "code",
   "execution_count": null,
   "metadata": {},
   "outputs": [],
   "source": [
    "#number of rows and columns\n",
    "data.shape"
   ]
  },
  {
   "cell_type": "code",
   "execution_count": null,
   "metadata": {},
   "outputs": [],
   "source": [
    "# column names\n",
    "data.columns"
   ]
  },
  {
   "cell_type": "markdown",
   "metadata": {},
   "source": [
    "## Best players for each position via overall rating.\n",
    "\n",
    "- 'Name' - football players name.\n",
    "- 'overall rating' - players rating given in numerical value.\n",
    "- 'position' - players playing position on ground.\n",
    "- 'ID' - unique id of each player."
   ]
  },
  {
   "cell_type": "code",
   "execution_count": null,
   "metadata": {},
   "outputs": [],
   "source": [
    "#read 2 columns from the dataset\n",
    "best_player = data.filter(['ID','Name','Position','Overall'])\n",
    "#checking null values\n",
    "best_player.isnull().sum()\n",
    "#drop null values\n",
    "best_player.dropna(inplace=True)\n",
    "#check duplicate values in column ID\n",
    "duplicate = best_player[best_player.duplicated('ID')]\n",
    "#create a new column and rank the values of 'overall' column\n",
    "best_player['rank_overall'] = best_player.groupby(['Position'])['Overall'].rank(method='first',ascending=False).astype(np.int32)\n",
    "#condition- read only rank 1 rows\n",
    "best_player = best_player[best_player.rank_overall==1]\n",
    "#create bar graph to compare best players on diff positions \n",
    "fig = px.bar(data_frame=best_player, x='Name', y='Overall',\n",
    "            text=\"Position\",labels={'x': 'Player Name', 'y': 'Overall rating'},title='Best players for overall rating via position')\n",
    "fig.update_traces(textposition='inside')\n",
    "fig.update_xaxes(title_text=\"Name\")\n",
    "fig.update_yaxes(title_text=\"Overall rating\")\n",
    "fig.show()"
   ]
  },
  {
   "cell_type": "markdown",
   "metadata": {},
   "source": [
    "### Observation \n",
    "- X-axis represent name of the players\n",
    "- Y-axis represent players overall rating\n",
    "- The bar graph shows 27 players.\n",
    "- Each bar is the unique position on the field.\n",
    "- For RF position L.Messi with 94 points and for LCM position T.Kroos with 90 rating are best in their respective position."
   ]
  },
  {
   "cell_type": "markdown",
   "metadata": {},
   "source": [
    "## The total number of right foot and left foot players\n",
    "- 'id' - unique id of each player.\n",
    "- 'Preferred Foot' - while playing player preferred foot."
   ]
  },
  {
   "cell_type": "code",
   "execution_count": null,
   "metadata": {},
   "outputs": [],
   "source": [
    "#read 2 columns from dataset\n",
    "preferred_foot = data.filter(['ID','Preferred Foot'])\n",
    "#check null values\n",
    "preferred_foot.isnull().sum()\n",
    "#drop null values\n",
    "preferred_foot.dropna(inplace=True)\n",
    "#groupby function split the data into groups\n",
    "preferred_foot = pd.DataFrame(preferred_foot.groupby(['Preferred Foot']).agg(count_foot=('Preferred Foot','count')))\n",
    "#reset index to default\n",
    "preferred_foot.reset_index(level=0,inplace=True)\n",
    "#create bar graph using plotly\n",
    "fig = px.bar(data_frame=preferred_foot, x='Preferred Foot', y='count_foot',\n",
    "            title='Players preferred foot',text='count_foot')\n",
    "fig.update_traces(textposition='inside')\n",
    "fig.update_xaxes(title_text=\"Preferred Foot\")\n",
    "fig.update_yaxes(title_text=\"Number of players\")\n",
    "fig.show()"
   ]
  },
  {
   "cell_type": "markdown",
   "metadata": {},
   "source": [
    "### Observation \n",
    "- X-axis represent player preferred foot\n",
    "- Y-axis represent number of players\n",
    "- The bar graph shows that there are a total 18159 players in which 4211 preferred left foot and 13948 preferred right foot.\n",
    "- In percentage only 23.2% of players prefer left foot and 76.8% players prefer right foot."
   ]
  },
  {
   "cell_type": "markdown",
   "metadata": {},
   "source": [
    "## Distribution of preferred foot per position\n",
    "- 'id' - unique id of each player.\n",
    "- 'Preferred Foot' - while playing player preferred foot.\n",
    "- 'Position' - player playing position."
   ]
  },
  {
   "cell_type": "code",
   "execution_count": null,
   "metadata": {},
   "outputs": [],
   "source": [
    "impact = data.filter(['ID','Preferred Foot','Position'])\n",
    "impact = impact.groupby(['Position','Preferred Foot']).agg(foot_count=('Preferred Foot','count'))\n",
    "impact.reset_index(level=[0,1],inplace=True)\n",
    "# left = impact[impact['Preferred Foot']=='Left']\n",
    "# right = impact[impact['Preferred Foot']=='Right']\n",
    "fig = px.bar(x=impact.Position, y=impact.foot_count, color=impact['Preferred Foot'], barmode='group',\n",
    "             labels={'x': 'Position', 'y': 'Number of Players','color':'Preferred foot'},title='Players preferred foot via Position')\n",
    "fig.show()"
   ]
  },
  {
   "cell_type": "markdown",
   "metadata": {},
   "source": [
    "### Observation\n",
    "- X-axis represent position.\n",
    "- Y-axis represent number of players.\n",
    "- In position LB(Linebacker) and LWB(Left wing back) the left foot players are more than right foot players.\n",
    "- Maximum right foot players are ST(Striker) followed by GK(Goal Keeper)."
   ]
  },
  {
   "cell_type": "markdown",
   "metadata": {},
   "source": [
    "## Discover how many players have a wage which is in the range 100k-500k. \n",
    "- 'ID' - unique identity number of each player\n",
    "- 'wage' - each player wages \n",
    "- 'Name' - players name\n",
    "\n",
    "Unknown\n",
    "- We don't know if the wages are defined on a weekly or monthly basis."
   ]
  },
  {
   "cell_type": "code",
   "execution_count": null,
   "metadata": {},
   "outputs": [],
   "source": [
    "#define a function which replace and remove special characters\n",
    "def change_form_of_value(value):\n",
    "    change = value.replace(\"€\", \"\")\n",
    "    if \"M\" in change:\n",
    "        change = float(change.replace(\"M\",\"\"))*1000000\n",
    "    elif \"K\" in change:\n",
    "        change = float(change.replace(\"K\", \"\")) * 1000\n",
    "    return float(change)\n",
    "#define a function based on condition\n",
    "def range_wage(x):\n",
    "    if 100000 <= x <= 500000:\n",
    "        return x"
   ]
  },
  {
   "cell_type": "code",
   "execution_count": null,
   "metadata": {},
   "outputs": [],
   "source": [
    "#read data from dataset\n",
    "player_wage = data.filter(['ID','Name','Wage'])\n",
    "#cereate a new column apply function\n",
    "player_wage['actual_wage'] = player_wage['Wage'].apply(change_form_of_value)\n",
    "\n",
    "# test_123 = player_wage[player_wage.actual_wage >= 100000 & player_wage.actual_wage <= 500000]\n",
    "\n",
    "player_wage['wage_euro'] = player_wage.actual_wage.apply(range_wage)\n",
    "#drop null values\n",
    "player_wage.dropna(inplace=True)\n",
    "#drop unnecessary columns\n",
    "player_wage.drop(columns=['Wage','actual_wage'],inplace=True)\n",
    "#plot a bar graph\n",
    "fig = px.bar(data_frame=player_wage, x='Name', y='wage_euro',\n",
    "            title='Wage of players from 100k to 500k ')\n",
    "fig.update_xaxes(title_text=\"Name\")\n",
    "fig.update_yaxes(title_text=\"Wages in euro\")\n",
    "fig.show()"
   ]
  },
  {
   "cell_type": "markdown",
   "metadata": {},
   "source": [
    "### Observation\n",
    "- X-axis represent players name.\n",
    "- Y-axis represent wages in euros.\n",
    "- Total 187 players whose wages lies between 100k to 500k.\n",
    "- L.Suarez has a maximum wage(455k) followed by L.Modric(420k)."
   ]
  },
  {
   "cell_type": "markdown",
   "metadata": {},
   "source": [
    "## Display the distribution of the players nationalities\n",
    "\n",
    "- 'ID' - unique identity number of each player\n",
    "- 'Nationality' - define on the basis of players."
   ]
  },
  {
   "cell_type": "code",
   "execution_count": null,
   "metadata": {},
   "outputs": [],
   "source": [
    "test = data.filter(['ID','Nationality'])\n",
    "print(test.isnull().sum())\n",
    "test = pd.DataFrame(test.groupby(['Nationality']).ID.count())\n",
    "test.reset_index(level=0,inplace=True)\n",
    "print(test.shape)\n",
    "fig = px.bar(x=test.Nationality, y=test.ID,\n",
    "            title='Distribution of players via nationalities',labels={'x':'Country','y':'Number of players'})\n",
    "fig.show()"
   ]
  },
  {
   "cell_type": "markdown",
   "metadata": {},
   "source": [
    "### Observation\n",
    "- X-axis represent country.\n",
    "- Y-axis represent number of players.\n",
    "- Total 164 countries in a data set.\n",
    "- Maximum number of players came from England followed by Germany and Spain."
   ]
  },
  {
   "cell_type": "markdown",
   "metadata": {},
   "source": [
    "## Find the average rating of players per country. Following this analysis, find the list of the countries with the best players.\n",
    "\n",
    "- 'overall rating'\n",
    "- 'Nationality'\n",
    "\n",
    "Limitation\n",
    "- No data available for country rating.\n",
    "\n",
    "Assumption\n",
    "- Country rating can be defined as a function of overall player rating.\n",
    "\n",
    "Since some countries provide more players than others as we have observed in the grpahs above, we compute the weighted average to calculate the country rating based on it's players. \n",
    "\n",
    "For example, if one country provides a player with 98 rating than the average value is biased. By using weighted average, we will include the contribution of a country in term of the number of players provided to FIFA along with the value of each player. Therefore, countries who provide fewer top player might be ranked lower than the countries providing more number of above average skills."
   ]
  },
  {
   "cell_type": "code",
   "execution_count": null,
   "metadata": {},
   "outputs": [],
   "source": [
    "new_dataset = data.filter(['ID','Nationality','Overall'])\n",
    "new_dataset['bin'] = pd.cut(x=new_dataset.Overall,bins=5,labels=[1,2,3,4,5] )\n",
    "new_dataset.bin.unique()\n",
    "groups = new_dataset.groupby(['Nationality','bin']).ID.count().reset_index(level=[0,1])\n",
    "groups.rename(columns={'ID': 'n_players'}, inplace=True)\n",
    "avg_score = new_dataset.groupby(['Nationality', 'bin']).Overall.mean().reset_index(level=[0,1])\n",
    "avg_score.Overall.fillna(0, inplace=True)\n",
    "solution_2 = groups.merge(avg_score, on = ['Nationality','bin'])\n",
    "solution_2['new_col'] = solution_2.bin.astype(np.int32) * solution_2.n_players\n",
    "solution_2['new_bin'] = solution_2.bin.astype(np.int32)\n",
    "new_avg = solution_2.groupby(['Nationality']).agg({'new_col': 'sum', 'new_bin':'sum'})\n",
    "new_avg['weighted_avg'] = new_avg.new_col/new_avg.new_bin\n",
    "new_avg.reset_index(level=[0], inplace=True)\n",
    "fig = px.bar(x=new_avg.Nationality, y=new_avg.weighted_avg,labels={'x':'Country','y':'Rating'})\n",
    "fig.show()"
   ]
  },
  {
   "cell_type": "markdown",
   "metadata": {},
   "source": [
    "### Observation\n",
    "- X-axis represent country.\n",
    "- Y-axis represent overall rating.\n",
    "- There are 164 countries in a dataset."
   ]
  },
  {
   "cell_type": "code",
   "execution_count": null,
   "metadata": {},
   "outputs": [],
   "source": [
    "new_avg['rank_weighted_avg'] = pd.DataFrame(new_avg.weighted_avg.rank(method='first',ascending=False)).astype(np.int32)\n",
    "new_avg = new_avg[new_avg.rank_weighted_avg < 11]\n",
    "fig = px.bar(x=new_avg.Nationality, y=new_avg.weighted_avg,labels={'x':'Country','y':'Rating'},\n",
    "            title='Top 10 Countries in rating')\n",
    "fig.show()"
   ]
  },
  {
   "cell_type": "markdown",
   "metadata": {},
   "source": [
    "### Observation\n",
    "- Ther bar graph shows the top 10 countries out of 164 countries in overall rating.\n",
    "- X-axis represent country.\n",
    "- Y-axis represent overall rating.\n",
    "- England at the top followed by Spain and Germany. "
   ]
  },
  {
   "cell_type": "markdown",
   "metadata": {},
   "source": [
    "## Display the distribution of the positions of all players in Fifa 2019.\n",
    "- 'position' - players playing position on ground."
   ]
  },
  {
   "cell_type": "code",
   "execution_count": null,
   "metadata": {},
   "outputs": [],
   "source": [
    "dis_position = data.filter(['ID','Position'])\n",
    "dis_position = pd.DataFrame(dis_position.groupby(['Position']).ID.count())\n",
    "dis_position.reset_index(level=0,inplace=True)\n",
    "fig = px.bar(x=dis_position.Position, y=dis_position.ID,labels={'x':'Position','y':'Total number of players'},\n",
    "            title='Number of players per position')\n",
    "fig.show()"
   ]
  },
  {
   "cell_type": "markdown",
   "metadata": {},
   "source": [
    "### Observation\n",
    "- X-axis represent playing position of players.\n",
    "- Y-axis number of players.\n",
    "- Maimum number of players are Striker(ST) followed by Goal keeper(GK)."
   ]
  },
  {
   "cell_type": "markdown",
   "metadata": {},
   "source": [
    "## When does the contract expire for the players?\n",
    "- 'Contract' - each player contract ending date is given "
   ]
  },
  {
   "cell_type": "code",
   "execution_count": null,
   "metadata": {},
   "outputs": [],
   "source": [
    "contract = data.filter(['ID','Name','Contract Valid Until'])\n",
    "contract.isnull().sum()\n",
    "contract.dropna(inplace=True)\n",
    "contract['contract_year'] = pd.DatetimeIndex(contract['Contract Valid Until']).year\n",
    "contract = contract.groupby(['contract_year']).agg(count_player=('contract_year','count'))\n",
    "contract.reset_index(level=[0],inplace=True)\n",
    "fig = px.scatter(x=contract.contract_year, y=contract.count_player,\n",
    "                 labels={'x':'Years','y':'Total Number of players'},title='contracts expire')\n",
    "fig.show()"
   ]
  },
  {
   "cell_type": "markdown",
   "metadata": {},
   "source": [
    "### Observation\n",
    "- X-axis represent years\n",
    "- Y-axis represent total number of players.\n",
    "- Maximum players(5920) contract expires in 2019.\n",
    "- There are only 2 players and there contract will expire in 2026."
   ]
  },
  {
   "cell_type": "markdown",
   "metadata": {},
   "source": [
    "## The distribution of players values.\n",
    "- 'value' given in euros"
   ]
  },
  {
   "cell_type": "code",
   "execution_count": null,
   "metadata": {},
   "outputs": [],
   "source": [
    "value_dataset = data.filter(['ID','Value'])\n",
    "value_dataset['value_M'] = value_dataset.Value.apply(change_form_of_value)\n",
    "value_dataset['value_M'] = value_dataset.value_M/1000000\n",
    "value_dataset['bin'] = pd.cut(x=value_dataset.value_M, bins=10, labels= range(1,11))\n",
    "print(value_dataset.bin.unique())\n",
    "\n",
    "value_groups = value_dataset.groupby(['bin']).agg({'ID': 'count', 'value_M': 'mean'}).reset_index(level=[0])\n",
    "\n",
    "fig = px.scatter(data_frame=value_groups, x='bin', y='ID', color='value_M',title='Players value',labels={'color':'value in millions'})\n",
    "fig.update_xaxes(type='category',title_text=\"Bins\")\n",
    "fig.update_yaxes(title_text=\"Number of players\")\n",
    "fig.show()"
   ]
  },
  {
   "cell_type": "markdown",
   "metadata": {},
   "source": [
    "### Observation\n",
    "- X-axis represent bins(value in millions divided in range).\n",
    "- Y-axis represent number of players\n",
    "- There are total 10 bins in increasing order from 1 to 10, value in range is given below.\n",
    "- (-0.119, 11.85) < (11.85, 23.7) < (23.7, 35.55) < (35.55, 47.4) ... (71.1, 82.95) < (82.95, 94.8) < (94.8, 106.65) < (106.65, 118.5)\n",
    "- The first bin contains the maximum number of players which is 17495. It may be because they have a lack of experience or low potential/rating. \n",
    "- Only 2 players are in bin 10 which is the highest in terms of value."
   ]
  },
  {
   "cell_type": "markdown",
   "metadata": {},
   "source": [
    "## The age distribution among players.\n",
    "- Age"
   ]
  },
  {
   "cell_type": "code",
   "execution_count": null,
   "metadata": {},
   "outputs": [],
   "source": [
    "age = data.filter(['ID','Age'])\n",
    "age.isnull().sum()\n",
    "fig = px.histogram(age, x=\"Age\")\n",
    "fig.update_xaxes(title_text=\"Age\")\n",
    "fig.update_yaxes(title_text=\"Total number of players\")\n",
    "fig.show()"
   ]
  },
  {
   "cell_type": "markdown",
   "metadata": {},
   "source": [
    "### Observation\n",
    "- Age on x-axis.\n",
    "- Number of players on y-axis.\n",
    "- Age 21 have maximum number of players followed by age 26.\n",
    "- Age 22 and 23 have almost same number of players.\n",
    "- Age 21 to 26 have maximum number of players "
   ]
  },
  {
   "cell_type": "markdown",
   "metadata": {},
   "source": [
    "## The top 10 potential players.\n",
    "- potential is defined for each player."
   ]
  },
  {
   "cell_type": "code",
   "execution_count": null,
   "metadata": {},
   "outputs": [],
   "source": [
    "player_potential = data.filter(['ID','Name','Potential'])\n",
    "player_potential.isnull().sum()\n",
    "player_potential['rank_potential'] = player_potential.Potential.rank(method='first',ascending=False).astype(np.int32)\n",
    "player_potential = player_potential[player_potential.rank_potential < 11]\n",
    "fig = px.bar(data_frame=player_potential, y='Name', x='Potential',\n",
    "            text=\"Potential\",title='Top 10 players in potential')\n",
    "fig.update_traces(textposition='inside')\n",
    "fig.show()"
   ]
  },
  {
   "cell_type": "markdown",
   "metadata": {},
   "source": [
    "### Observation\n",
    "- X-axis represent potential of players.\n",
    "- Y-axis represent players name.\n",
    "- The bar graph represent top 10 players with maximum potential.\n",
    "- K.Mbappe is at the top in the list.\n",
    "- L.Messi, Cristiano Ronaldo, and P.Dybala have the same potential of 94.\n",
    "- Out of the top 10, 4 players have the same potential of 93."
   ]
  }
 ],
 "metadata": {
  "kernelspec": {
   "display_name": "Python 3",
   "language": "python",
   "name": "python3"
  }
 },
 "nbformat": 4,
 "nbformat_minor": 4
}
