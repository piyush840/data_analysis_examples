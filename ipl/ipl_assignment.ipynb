{
 "cells": [
  {
   "cell_type": "markdown",
   "metadata": {},
   "source": [
    "## Introduction\n",
    "- Cricket is a bat-and-ball game played between two teams of eleven players each on a cricket field, at the centre of which is a rectangular 20-metre (22-yard) pitch with a target at each end called the wicket (a set of three wooden stumps upon which two bails sit). Each phase of play is called an innings, during which one team bats, attempting to score as many runs as possible, whilst their opponents bowl and field, attempting to minimise the number of runs scored. When each innings ends, the teams usually swap roles for the next innings (i.e. the team that previously batted will bowl/field, and vice versa). The teams each bat for one or two innings, depending on the type of match. The winning team is the one that scores the most runs, including any extras gained (except when the result is not a win/loss result).\n",
    "- IPL is a T20 format game in which first 6 overs are batting powerplay where only 2 filders are allowed outside the 30 yard circle.\n",
    "- Every batting team wants a momentum in these 6 overs.\n",
    "- Player who score maximum runs in ipl won orange cap\n",
    "- Player who take maximum wickets in ipl won purple cap"
   ]
  },
  {
   "cell_type": "markdown",
   "metadata": {},
   "source": [
    "## Data source\n",
    "- https://www.kaggle.com/manasgarg/ipl"
   ]
  },
  {
   "cell_type": "markdown",
   "metadata": {},
   "source": [
    "## Tasks performed in this analysis\n",
    "- Find the toss winning count per team.\n",
    "- Display the team that wins the most number of matches per season.\n",
    "- Venue that hosted the most number of matches\n",
    "- Find the most valuable player.\n",
    "- The most successful IPL team.\n",
    "- Which umpire has officiated the most number of IPL matches on-field?\n",
    "- Does winning the toss has any advantage?\n",
    "- Is it better to defend or chase in IPL?\n",
    "- First and second inning batting average per venue.\n",
    "- Runs scored in a powerplay of every season.\n",
    "- Most runs scored by a batsmen in every season of IPL.\n",
    "- Maximum wicket taking bowler in every season of ipl.\n",
    "- Highest partnership in runs of each season."
   ]
  },
  {
   "cell_type": "code",
   "execution_count": null,
   "metadata": {},
   "outputs": [],
   "source": [
    "import pandas as pd\n",
    "import numpy as np\n",
    "import matplotlib.pyplot as plt\n",
    "import plotly.express as px\n",
    "import plotly.graph_objects as go\n",
    "import seaborn as sns\n",
    "import datetime\n",
    "import warnings\n",
    "warnings.filterwarnings('ignore')"
   ]
  },
  {
   "cell_type": "code",
   "execution_count": null,
   "metadata": {},
   "outputs": [],
   "source": [
    "def read_datasets():\n",
    "    \"\"\"\n",
    "    Reads the dataset for teams and ball by ball\n",
    "    \n",
    "    Args: none\n",
    "    returns: Pandas DF (data and inning_dataset)\n",
    "    \"\"\"\n",
    "    data = pd.read_csv(\"ipl-data/IPL Matches 2008-2020.csv\")\n",
    "    data_innings = pd.read_csv('ipl-data/IPL Ball-by-Ball 2008-2020.csv')\n",
    "    \n",
    "    data = data.replace(['Rising Pune Supergiants'],'Rising Pune Supergiant')\n",
    "    data['season'] = pd.DatetimeIndex(data.date).year\n",
    "    data_innings = data_innings.replace(['Rising Pune Supergiants'],'Rising Pune Supergiant')\n",
    "    \n",
    "    return data, data_innings\n",
    "\n",
    "data, dataset_innings = read_datasets()"
   ]
  },
  {
   "cell_type": "markdown",
   "metadata": {},
   "source": [
    "## Find the toss winning count per team.\n",
    "- 'toss_winner' - toss winner teams\n",
    "- 'id' - per match unique id"
   ]
  },
  {
   "cell_type": "code",
   "execution_count": null,
   "metadata": {},
   "outputs": [],
   "source": [
    "# call 3 columns from data set\n",
    "toss_winner_team = data.filter(['id','toss_winner','winner'])\n",
    "#checing null values \n",
    "toss_winner_team.isnull().sum()\n",
    "#drop null values\n",
    "toss_winner_team.dropna(inplace=True)\n",
    "#groupby function split the data into groups\n",
    "toss_winning_count = pd.DataFrame(toss_winner_team.groupby(['toss_winner']).id.count())\n",
    "#reset the index to the default integer index beginning at 0\n",
    "toss_winning_count.reset_index(level=0,inplace = True)\n",
    "#change figure size\n",
    "plt.figure(figsize=(10,7))\n",
    "# Bar graph is used to compare different teams\n",
    "plt.barh(toss_winning_count['toss_winner'],toss_winning_count['id'],edgecolor='black')\n",
    "plt.title('Toss winning count per Team',fontdict= {'fontweight':'bold','fontsize': 14})\n",
    "plt.xlabel('Toss Count',fontdict= {'fontweight':'bold','fontsize': 14})\n",
    "plt.ylabel('Teams',fontdict= {'fontweight':'bold','fontsize': 14})\n",
    "plt.show()"
   ]
  },
  {
   "cell_type": "markdown",
   "metadata": {},
   "source": [
    "### Observation - \n",
    "- Bar graph represent the number of toss win by each team from 2008 to 2020.\n",
    "- X-axis represent the team.\n",
    "- Y-axis represent the toss winning count.\n",
    "- There are total 15 teams in competition.\n",
    "- Mumbai-indians wins the maximum number of tosses followed by kolkata knight riders and chennai super kings.\n",
    "- Kochi Tuskers Kerala wins minimun number of tosses."
   ]
  },
  {
   "cell_type": "markdown",
   "metadata": {},
   "source": [
    "## Display the teams that wins the most number of matches per season.\n",
    "- season given in a column 'date.\n",
    "- winning teams"
   ]
  },
  {
   "cell_type": "code",
   "execution_count": null,
   "metadata": {},
   "outputs": [],
   "source": [
    "#call 2 columns from data set\n",
    "most_win = data.filter(['date','winner'])\n",
    "#create a new column 'season' on bases of year\n",
    "most_win['season'] = pd.DatetimeIndex(most_win['date']).year\n",
    "#groupby function split the data into groups\n",
    "win_season = most_win.groupby(['season','winner']).agg(wins=('winner', 'count'))\n",
    "#create a new column,rank values on the bases of wins\n",
    "win_season['rank_wins'] = win_season.groupby('season')['wins'].rank(method='first',ascending=False).astype(np.int32)\n",
    "win_season.reset_index(level = 0,inplace=True)\n",
    "#condition - return 1st rank values\n",
    "win_year = win_season[win_season.rank_wins==1]\n",
    "win_year.reset_index(level = 0,inplace=True)\n",
    "fig = px.scatter(win_year, x=\"winner\", y=\"wins\", color=\"season\",\n",
    "                 size='wins',title='Teams wins most number of matches per season')\n",
    "fig.update_xaxes(title_text=\"Teams\")\n",
    "fig.update_yaxes(title_text=\"Total number of wins\")\n",
    "fig.show()"
   ]
  },
  {
   "cell_type": "markdown",
   "metadata": {},
   "source": [
    "### Observation\n",
    "- X-axis represent teams.\n",
    "- Y-axis represent number of wins.\n",
    "- Total teams 7. \n",
    "- Mumbai Indians wins most number of matches in 3 seasons 2013, 2017 and 2020. They won maximum 13 matches in 2013.\n",
    "- Chennai Super Kings wins in 2 seasons 2015 and 2018. They won maximum 11 matches in 2018."
   ]
  },
  {
   "cell_type": "markdown",
   "metadata": {},
   "source": [
    "## Venue that hosted the most number of matches\n",
    "- 'venue' - playground \n",
    "- number of matches define on the bases of id."
   ]
  },
  {
   "cell_type": "code",
   "execution_count": null,
   "metadata": {},
   "outputs": [],
   "source": [
    "#groupby function split the data into groups\n",
    "venue_max = pd.DataFrame(data.groupby(['venue']).id.count())\n",
    "#reset the index to the default integer index beginning at 0\n",
    "venue_max.reset_index(level=0,inplace=True)\n",
    "#sort the values of id in decending order\n",
    "high_low = venue_max.sort_values(by='id',ascending=False)\n",
    "#changing figure size\n",
    "plt.figure(figsize=(10,7))\n",
    "# Bar graph is used to compare different grounds\n",
    "plt.bar(venue_max['venue'],venue_max['id'],edgecolor='black')\n",
    "plt.title('Number of matches played on each ground',fontdict= {'fontweight':'bold','fontsize': 14})\n",
    "plt.xlabel('Venue',fontdict= {'fontweight':'bold','fontsize': 14})\n",
    "plt.ylabel('Number of matches',fontdict= {'fontweight':'bold','fontsize': 14})\n",
    "plt.xticks(rotation=-90)\n",
    "plt.show()"
   ]
  },
  {
   "cell_type": "markdown",
   "metadata": {},
   "source": [
    "### Observation - \n",
    "- Bar graph represent the number of matches played on each ground.\n",
    "- X-axis represent playgrounds name.\n",
    "- Y-axis represent number of matches.\n",
    "- From 2008 to 2020 matches were hosted by 36 venues.\n",
    "- Maximum number of matches played on Eden Gardens followed by Feroz Shah Kotla and Wankhede Stadium."
   ]
  },
  {
   "cell_type": "markdown",
   "metadata": {},
   "source": [
    "## Find the most valuable player.\n",
    "- player of the match\n",
    "\n",
    "Limitation\n",
    "- Valuable player is not available in a dataset.\n",
    "\n",
    "Assumption \n",
    "- The player who won most player of the match is the most valuable player. "
   ]
  },
  {
   "cell_type": "code",
   "execution_count": null,
   "metadata": {},
   "outputs": [],
   "source": [
    "#call player_of_match column from dataset\n",
    "val_player = data.filter(['player_of_match'])\n",
    "#groupby function split the data into groups\n",
    "#create new column and count the number of player occur each time\n",
    "most_val_count = val_player.groupby(['player_of_match']).agg(man_of_match=('player_of_match','count'))\n",
    "#reset index to default\n",
    "most_val_count.reset_index(level=0,inplace=True)\n",
    "arrange_high_low = most_val_count.sort_values(by='man_of_match',ascending=False)\n",
    "print(arrange_high_low.shape)\n",
    "plt.figure(figsize=(10,7))\n",
    "plt.bar(arrange_high_low['player_of_match'][0:10],arrange_high_low['man_of_match'][0:10],edgecolor='black')\n",
    "plt.title('Top 10 Valuable Player',fontdict= {'fontweight':'bold','fontsize': 14})\n",
    "plt.xlabel('Players Name',fontdict= {'fontweight':'bold','fontsize': 14})\n",
    "plt.ylabel('Award count',fontdict= {'fontweight':'bold','fontsize': 14})\n",
    "plt.xticks(rotation=-45)\n",
    "plt.show()"
   ]
  },
  {
   "cell_type": "markdown",
   "metadata": {},
   "source": [
    "### Observation - \n",
    "- Bar graph represent the top 10 valuable players.\n",
    "- X-axis represent players name.\n",
    "- Y-axis represent number of times award winning by each player.\n",
    "- Most valuable player is AB-de villiers.He won 23 times player of the match.\n",
    "- There are 6 indian player in top 10 valuable player."
   ]
  },
  {
   "cell_type": "markdown",
   "metadata": {},
   "source": [
    "## Alternate method to create a dataset."
   ]
  },
  {
   "cell_type": "code",
   "execution_count": null,
   "metadata": {},
   "outputs": [],
   "source": [
    "#count each name from a column\n",
    "player = data['player_of_match'].value_counts()\n",
    "#create 2 new column\n",
    "match_player = pd.DataFrame(columns=['player_name','player_match_count'])\n",
    "match_player.dtypes\n",
    "#iterating values by using for loop\n",
    "# iteritems returns an iterator of the dictionary’s list in the form of (key, value) tuple pairs\n",
    "for items in player.iteritems():\n",
    "# add values in column by indexing\n",
    "    add_value_columns = pd.DataFrame({'player_name':[items[0]],'player_match_count':[items[1]]})\n",
    "    match_player = match_player.append(add_value_columns,ignore_index=True)\n",
    "match_player.head()"
   ]
  },
  {
   "cell_type": "markdown",
   "metadata": {},
   "source": [
    "## The most successful IPL team.\n",
    "- winner teams.\n",
    "\n",
    "Limitation\n",
    "- There is no particular defination of a successful IPL team.\n",
    "\n",
    "Assumption\n",
    "- The team that has registered the most number of victories is the most successful IPL team."
   ]
  },
  {
   "cell_type": "code",
   "execution_count": null,
   "metadata": {},
   "outputs": [],
   "source": [
    "#call winner column from dataset\n",
    "team_win = data.filter(['winner'])\n",
    "#groupby function split the data into groups\n",
    "#create new column and count the number of team wins\n",
    "teams_winning_count = team_win.groupby(['winner']).agg(win_count=('winner','count'))\n",
    "#reset index to default\n",
    "teams_winning_count.reset_index(level=0,inplace=True)\n",
    "plt.figure(figsize=(10,7))\n",
    "plt.barh(teams_winning_count.winner,teams_winning_count.win_count,edgecolor='black')\n",
    "plt.title(\"Teams winning count\",fontdict= {'fontweight':'bold','fontsize': 14})\n",
    "plt.xlabel('Winning count',fontdict= {'fontweight':'bold','fontsize': 14})\n",
    "plt.ylabel('Teams',fontdict= {'fontweight':'bold','fontsize': 14})\n",
    "plt.show()"
   ]
  },
  {
   "cell_type": "markdown",
   "metadata": {},
   "source": [
    "### Observation - \n",
    "- Bar graph repesent the total number of wins by each team from 2008 to 2020.\n",
    "- X-axis represent teams .\n",
    "- Y-axis represent total number of wins.\n",
    "- Maximum number of matches wins by mumbai indians followed by chennai super kings and kolkata knight riders."
   ]
  },
  {
   "cell_type": "markdown",
   "metadata": {},
   "source": [
    "## Which umpire has officiated the most number of IPL matches on-field?  \n",
    "- umpire1 and umpire2."
   ]
  },
  {
   "cell_type": "code",
   "execution_count": null,
   "metadata": {},
   "outputs": [],
   "source": [
    "#read column from data\n",
    "first_umpire = data.filter(['umpire1'])\n",
    "#check data type\n",
    "first_umpire.dtypes \n",
    "#check null values\n",
    "first_umpire.isnull().sum()\n",
    "#read column from data\n",
    "second_umpire = data.filter(['umpire2'])\n",
    "#check data type\n",
    "first_umpire.dtypes\n",
    "#check null values\n",
    "second_umpire.isnull().sum()\n",
    "#two dataframes stored in new variable\n",
    "frames = [first_umpire,second_umpire]\n",
    "#concatenate 2 columns in a single column\n",
    "total_umpire = pd.concat(frames)\n",
    "total_umpire.shape\n",
    "#check duplicate values\n",
    "total_umpire.umpire1.duplicated().sum()\n",
    "#groupby function split the data into groups,create new column and count umpire's IPL matches on-field\n",
    "count_umpire = pd.DataFrame(total_umpire.groupby(['umpire1']).agg(umpire_on_field=('umpire1','count')))\n",
    "#create a new column and using rank function \n",
    "count_umpire['rank_umpire'] = count_umpire.umpire_on_field.rank(method = 'first',ascending = False).astype(np.int32)\n",
    "#condition read top 10 values\n",
    "count_umpire = count_umpire[count_umpire.rank_umpire < 11]\n",
    "#reset index on default\n",
    "count_umpire.reset_index(level=0,inplace = True)\n",
    "plt.figure(figsize=(10,7))\n",
    "plt.barh(count_umpire['umpire1'],count_umpire['umpire_on_field'])\n",
    "plt.title(\"Umpire's officiated IPL matches\",fontdict= {'fontweight':'bold','fontsize': 14})\n",
    "plt.xlabel(\"Number of matches\",fontdict= {'fontweight':'bold','fontsize': 14})\n",
    "plt.ylabel(\"Umpire's Name\",fontdict= {'fontweight':'bold','fontsize': 14})\n",
    "#plt.xticks(rotation=90)\n",
    "plt.show()"
   ]
  },
  {
   "cell_type": "markdown",
   "metadata": {},
   "source": [
    "### Observation - \n",
    "- Bar graph represent top 10 umpires officiated maximum number of ipl matches.\n",
    "- X-axis represent total number of matches.\n",
    "- Y-axis represent umpires name.\n",
    "- HDPK Dharmasena has officiated most number of ipl matches followed by AK chaudhary."
   ]
  },
  {
   "cell_type": "markdown",
   "metadata": {},
   "source": [
    "## Does winning the toss has any advantage? \n",
    "- Toss winner teams\n",
    "- Match winner teams"
   ]
  },
  {
   "cell_type": "code",
   "execution_count": null,
   "metadata": {},
   "outputs": [],
   "source": [
    "#read a column from data\n",
    "toss_winning_teams = data.filter(['toss_winner'])\n",
    "#split data into a group by using groupby function\n",
    "#make a new column and count toss win per team\n",
    "toss_winning_count = pd.DataFrame(toss_winning_teams.groupby(['toss_winner']).agg(toss_count=('toss_winner','count')))\n",
    "#reset index to default\n",
    "toss_winning_count.reset_index(level=0,inplace=True)\n",
    "#read 2 columns from data\n",
    "toss_match_winner = data.filter(['toss_winner','winner'])\n",
    "#winning the toss also wins the match\n",
    "winner = toss_match_winner[toss_match_winner['toss_winner']==toss_match_winner['winner']]\n",
    "#group toss winner data and count winner team in a new column\n",
    "toss_match_win = pd.DataFrame(winner.groupby(['toss_winner']).agg(match_win_count=('winner','count')))\n",
    "toss_match_win.reset_index(level=0,inplace=True)\n",
    "#change column names\n",
    "toss_match_win.rename(columns={'toss_winner' : 'Teams','match_win_count':'Toss/Match win'},inplace=True)\n",
    "#2 data frame in a variable\n",
    "frames1 = [toss_match_win,toss_winning_count]\n",
    "#merge 2 dataset\n",
    "result = pd.concat(frames1,axis=1)\n",
    "#change column name\n",
    "result.rename(columns={'toss_count':'Total toss win'},inplace=True)\n",
    "#drop unnecesary column\n",
    "result.drop(columns=['toss_winner'],inplace=True)\n",
    "result['Toss win percentage'] = (result['Toss/Match win'] / result['Total toss win']) * 100\n",
    "plt.figure(figsize=(10,7))\n",
    "plt.barh(result['Teams'],result['Toss win percentage'])\n",
    "plt.title(\"Match winning percentage\",fontdict= {'fontweight':'bold','fontsize': 14})\n",
    "plt.xlabel(\"Winning percentage\",fontdict= {'fontweight':'bold','fontsize': 14})\n",
    "plt.ylabel(\"Teams\",fontdict= {'fontweight':'bold','fontsize': 14})\n",
    "plt.show"
   ]
  },
  {
   "cell_type": "markdown",
   "metadata": {},
   "source": [
    " "
   ]
  },
  {
   "cell_type": "markdown",
   "metadata": {},
   "source": [
    "## Is it better to defend or chase in IPL?\n",
    "- winner\n",
    "- result\n",
    "- result margin"
   ]
  },
  {
   "cell_type": "code",
   "execution_count": null,
   "metadata": {},
   "outputs": [],
   "source": [
    "defend_chase = data.filter(['winner','result','result_margin'])\n",
    "#define a function\n",
    "def defend(x):\n",
    "#return teams win defend    \n",
    "    if (x['result'] == 'runs'):\n",
    "        return x['winner']\n",
    "    else:\n",
    "        return None\n",
    "def chase(y):\n",
    "    if (y['result'] == 'wickets'):\n",
    "        return y['winner']\n",
    "    else:\n",
    "        return None\n",
    "defend_chase['defending_team'] = defend_chase.apply(defend,axis=1)\n",
    "defend_chase['chasing_team'] = defend_chase.apply(chase,axis=1)\n",
    "defend = pd.DataFrame(defend_chase.groupby(['defending_team']).agg(defend_count=('defending_team','count')))\n",
    "defend.reset_index(level=0,inplace=True)\n",
    "defend.head()\n",
    "chase = pd.DataFrame(defend_chase.groupby(['chasing_team']).agg(chasing_count=('chasing_team','count')))\n",
    "chase.reset_index(level=0,inplace=True)\n",
    "chase.head()\n",
    "fig = go.Figure(data=[\n",
    "    go.Bar(name='Chase', x=chase.chasing_team, y=chase.chasing_count),\n",
    "    go.Bar(name='Defend', x=defend.defending_team, y=defend.defend_count)\n",
    "])\n",
    "fig.update_layout(barmode='group',title='Win by chase/defend the score')\n",
    "fig.update_xaxes(title_text=\"Teams\")\n",
    "fig.update_yaxes(title_text=\"Number of wins\")\n",
    "fig.show()"
   ]
  },
  {
   "cell_type": "markdown",
   "metadata": {},
   "source": [
    "## Observation\n",
    "- X-axis represent teams.\n",
    "- Y-axis represent total number of wins.\n",
    "- Chennai Super Kings and Pune warriors are the teams whose winning count is same in both the condition. But Chennai Super Kings played more matches than Pune warriors.\n",
    "- Deccan Chargers, Delhi Capitals and Sunrisers Hyderabad these three teams won more number of matches in defending the score.\n",
    "- Kolkata Knight Riders won maximum number of matches by chasing the score."
   ]
  },
  {
   "cell_type": "markdown",
   "metadata": {},
   "source": [
    "## First and second inning batting average per venue."
   ]
  },
  {
   "cell_type": "code",
   "execution_count": null,
   "metadata": {},
   "outputs": [],
   "source": [
    "agg_innings = dataset_innings.groupby(['id', 'inning', 'batting_team']).agg({'total_runs': 'sum'})\n",
    "agg_innings.reset_index(level=[0,1,2], inplace=True)\n",
    "new_dataset = data.merge(agg_innings, on = 'id')\n",
    "temp_dataset = new_dataset.filter(['id', 'venue','inning', 'batting_team', 'total_runs'])\n",
    "venue_data = pd.DataFrame(temp_dataset.groupby(['venue', 'inning']).total_runs.mean())\n",
    "venue_data.reset_index(level=[0,1], inplace=True)\n",
    "first_inning = venue_data[venue_data.inning == 1]\n",
    "second_inning = venue_data[venue_data.inning == 2]\n",
    "fig = go.Figure(data=[\n",
    "    go.Bar(name='First inning', x=first_inning.venue, y=first_inning.total_runs),\n",
    "    go.Bar(name='secong inning', x=second_inning.venue, y=second_inning.total_runs)\n",
    "])\n",
    "fig.update_layout(barmode='group',title='1st and 2nd inning average runs',width=800,height=800)\n",
    "fig.update_xaxes(title_text=\"Venue\")\n",
    "fig.update_yaxes(title_text=\"Average runs\")\n",
    "fig.show()"
   ]
  },
  {
   "cell_type": "markdown",
   "metadata": {},
   "source": [
    "## Runs scored in a powerplay of every season.\n",
    "- match id\n",
    "- overs\n",
    "- total runs\n",
    "- date\n",
    "- batting team"
   ]
  },
  {
   "cell_type": "code",
   "execution_count": null,
   "metadata": {},
   "outputs": [],
   "source": [
    "season = data.filter(['date','id'])\n",
    "season['season'] = pd.DatetimeIndex(data['date']).year\n",
    "season.drop(columns='date',inplace=True)\n",
    "#checking null values\n",
    "season.isnull().sum()\n",
    "innings = dataset_innings.filter(['id','over','total_runs','batting_team'])\n",
    "innings.isnull().sum()\n",
    "new_data = season.merge(innings, on = 'id')\n",
    "new_data.shape\n",
    "powerplay = new_data[new_data['over'] < 6] \n",
    "new_powerplay = pd.DataFrame(powerplay.groupby(['batting_team','season']).agg({'total_runs':'sum'}))\n",
    "new_powerplay.reset_index(level=[0,1],inplace=True) \n",
    "# new_powerplay = new_powerplay[new_powerplay['season'] == 2008]\n",
    "# fig = px.bar(new_powerplay, x='batting_team', y='total_runs', \n",
    "#              color='season',labels={'color':'Season'}, height=500)\n",
    "# fig.update_xaxes(title_text=\"Teams\")\n",
    "# fig.update_yaxes(title_text=\"Runs\")\n",
    "# fig.show()\n",
    "fig = px.scatter(new_powerplay, x='batting_team', y='total_runs', \n",
    "             color='season',labels={'color':'Season'}, height=500)\n",
    "fig.update_layout(title='Powerplay runs')\n",
    "fig.update_xaxes(title_text=\"Teams\")\n",
    "fig.update_yaxes(title_text=\"Runs\")\n",
    "fig.show()"
   ]
  },
  {
   "cell_type": "markdown",
   "metadata": {},
   "source": [
    "## Most runs scored by a batsmen in every season of IPL.\n",
    "- Batsmen\n",
    "- season\n",
    "- Batsmen runs"
   ]
  },
  {
   "cell_type": "code",
   "execution_count": null,
   "metadata": {},
   "outputs": [],
   "source": [
    "score_data = dataset_innings.filter(['id','batsman','batsman_runs'])\n",
    "runs_new_data = season.merge(score_data, on = 'id')\n",
    "# runs_new_data.drop(columns='date',inplace=True)\n",
    "most_runs = pd.DataFrame(runs_new_data.groupby(['season','batsman']).agg({'batsman_runs':'sum'}))\n",
    "most_runs.reset_index(level=[0,1],inplace=True)\n",
    "most_runs['rank_batsman'] = most_runs.groupby('season')['batsman_runs'].rank(method='first',ascending=False).astype(np.int32)\n",
    "# most_runs = most_runs[most_runs['batsman'] == 'V Kohli']\n",
    "most_runs = most_runs[most_runs.rank_batsman==1]\n",
    "plt.subplots(figsize=(15,10))\n",
    "sns.barplot(x='batsman_runs',y='batsman',data=most_runs,hue='season')\n",
    "plt.title('Orange cap holders',fontdict= {'fontweight':'bold','fontsize': 14})\n",
    "plt.xlabel('Batsman runs',fontdict= {'fontweight':'bold','fontsize': 14})\n",
    "plt.ylabel('Batsman name',fontdict= {'fontweight':'bold','fontsize': 14})\n",
    "plt.show()"
   ]
  },
  {
   "cell_type": "markdown",
   "metadata": {},
   "source": [
    "### Observation\n",
    "- X-axis represent runs scored by batsmen.\n",
    "- Y-axis represent batsmen.\n",
    "- CH Gayle 2 times orange cap winner in year 2011,2012 and he scored more runs in 2012 than 2011.\n",
    "- DA Warner won orange cap in three consecutive years 2015, 2016 and 2017.In all three years he scored more runs in 2017.\n",
    "- As we compare all the seasons V Kohli scored maximum runs in year 2018 and won orange cap . "
   ]
  },
  {
   "cell_type": "markdown",
   "metadata": {},
   "source": [
    "## Maximum wicket taking bowler in every season of ipl.\n",
    "- Bowler\n",
    "- season\n",
    "- wicket"
   ]
  },
  {
   "cell_type": "code",
   "execution_count": null,
   "metadata": {},
   "outputs": [],
   "source": [
    "wicket = dataset_innings.filter(['id','bowler','is_wicket'])\n",
    "wicket_new_data = season.merge(wicket, on = 'id')\n",
    "max_wicket = pd.DataFrame(wicket_new_data.groupby(['season','bowler']).agg({'is_wicket':'sum'}))\n",
    "max_wicket.reset_index(level=[0,1],inplace=True)\n",
    "max_wicket['rank_bowler'] = max_wicket.groupby('season')['is_wicket'].rank(method='first',ascending=False).astype(np.int32)\n",
    "max_wicket = max_wicket[max_wicket.rank_bowler==1]\n",
    "plt.subplots(figsize=(15,10))\n",
    "sns.scatterplot(x='season',y='is_wicket',data=max_wicket,hue='bowler',s=150,palette='muted')\n",
    "plt.title('Purple cap holders',fontdict= {'fontweight':'bold','fontsize': 14})\n",
    "plt.xlabel('Season',fontdict= {'fontweight':'bold','fontsize': 14})\n",
    "plt.ylabel('Wickets',fontdict= {'fontweight':'bold','fontsize': 14})\n",
    "plt.show()"
   ]
  },
  {
   "cell_type": "markdown",
   "metadata": {},
   "source": [
    "### Observation -\n",
    "- X-axis represent the season of ipl.\n",
    "- Y-axis represent the number of wickets.\n",
    "- Sohail tanvir was the first bowler awarded purple cap.\n",
    "- Dj bravo,B kumar and K-Rabada was 2 times purple cap winners.\n",
    "- Dj bravo takes maximum 34 wickets in year 2013"
   ]
  },
  {
   "cell_type": "markdown",
   "metadata": {},
   "source": [
    "## Highest partnership in runs of each season.\n",
    "- 'id' - particular match have an unique match id.\n",
    "- 'batting_team' - team batting in a match. \n",
    "- 'batsman' - who are facing the ball.\n",
    "- 'non-striker' - batsman on the other side of crease.\n",
    "- 'total_runs' - batsman runs including extras runs like no-ball,wide etc."
   ]
  },
  {
   "cell_type": "code",
   "execution_count": null,
   "metadata": {},
   "outputs": [],
   "source": [
    "data, dataset_innings = read_datasets()\n",
    "max_patnership = pd.DataFrame(dataset_innings.groupby(['id','inning','batsman','non_striker','batting_team']).agg({'total_runs':'sum'}))\n",
    "max_patnership['rank_runs'] = max_patnership.groupby(['id'])['total_runs'].rank(method='first',ascending=False).astype(np.int32)\n",
    "max_patnership = max_patnership[max_patnership.rank_runs==1]\n",
    "max_patnership.reset_index(level=[0,1,2,3,4],inplace=True)\n",
    "season = data.filter(['id', 'season'])\n",
    "partnership_season = season.merge(max_patnership, on = 'id')\n",
    "partnership_season['rank_season'] = partnership_season.groupby(['season'])['total_runs'].rank(method='first',ascending=False).astype(np.int32)\n",
    "partnership_season = partnership_season[partnership_season.rank_season==1]\n",
    "partnership_season.drop(columns=['rank_runs', 'rank_season'], inplace=True)\n",
    "fig = px.bar(x=partnership_season.season, y=partnership_season.total_runs,\n",
    "            color=partnership_season.batting_team, facet_row=partnership_season.inning,labels={'x':'Years','y':'Runs','color':'Teams'},\n",
    "            title='Maximum runs partnership per year')\n",
    "fig.show()"
   ]
  },
  {
   "cell_type": "markdown",
   "metadata": {},
   "source": [
    "### Observation\n",
    "- X-axis represent years.\n",
    "- Y-axis represent runs.\n",
    "- Royal Challengers Banglore scored 4 times the maximum runs patnership in year 2012, 2013, 2015 and 2016. Out of 4 they scored maximum 138 runs in year 2015.\n",
    "- Sunrisers Hyderabad scored maximum partnership in 3 consecutive years 2017 to 2019. Out of 3 they scored maximum 115 runs in year 2019.\n",
    "- Kings XI Punjab also scored in 3 years 2011, 2014 and 2020. Out of three they score maximum 126 runs in year 2011.\n",
    "- In year 2009 and 2010 Rajasthan Royals scored maximum runs partnership. They scored maximum 89 runs in 2010."
   ]
  }
 ],
 "metadata": {
  "kernelspec": {
   "display_name": "Python 3",
   "language": "python",
   "name": "python3"
  }
 },
 "nbformat": 4,
 "nbformat_minor": 4
}
